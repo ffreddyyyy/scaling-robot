{
 "cells": [
  {
   "cell_type": "markdown",
   "id": "026cf054",
   "metadata": {},
   "source": [
    "# Discount Tool Web App\n",
    "\n",
    "## Heart disease discount tool"
   ]
  },
  {
   "cell_type": "code",
   "execution_count": 1,
   "id": "f29c2e0a",
   "metadata": {},
   "outputs": [],
   "source": [
    "import pandas as pd\n",
    "from sklearn import model_selection\n",
    "from sklearn import metrics\n",
    "from sklearn.ensemble import RandomForestClassifier\n",
    "from sklearn.decomposition import FactorAnalysis\n",
    "import numpy as np\n",
    "import matplotlib.pyplot as plt\n",
    "import sys\n",
    "import ipywidgets as widgets"
   ]
  },
  {
   "cell_type": "code",
   "execution_count": 2,
   "id": "b8498a59",
   "metadata": {},
   "outputs": [],
   "source": [
    "data = pd.read_csv(\"https://docs.google.com/spreadsheets/d/1afx1bMlAqtapyXFzHMC68AnHVDUFOAbs2Gx0DuInc0Y/export?format=csv\", header=0)\n",
    "data1 = data.groupby(['DEATH_EVENT']).nunique()"
   ]
  },
  {
   "cell_type": "code",
   "execution_count": 3,
   "id": "62f0ddeb",
   "metadata": {},
   "outputs": [
    {
     "name": "stderr",
     "output_type": "stream",
     "text": [
      "C:\\ProgramData\\Anaconda3\\lib\\site-packages\\sklearn\\base.py:443: UserWarning: X has feature names, but RandomForestClassifier was fitted without feature names\n",
      "  warnings.warn(\n"
     ]
    },
    {
     "data": {
      "application/vnd.jupyter.widget-view+json": {
       "model_id": "88e65fce67434c6ebaee5148c12c9ec8",
       "version_major": 2,
       "version_minor": 0
      },
      "text/plain": [
       "Output(layout=Layout(border='1px solid black'))"
      ]
     },
     "metadata": {},
     "output_type": "display_data"
    }
   ],
   "source": [
    "data = data.drop('time', axis=1)\n",
    "y = data.DEATH_EVENT\n",
    "x = data.drop('DEATH_EVENT', axis=1)\n",
    "\n",
    "x_train, x_test, y_train, y_test = model_selection.train_test_split(x,y,test_size=0.2)\n",
    "\n",
    "classifier = RandomForestClassifier(n_estimators = 30)\n",
    "classifier.fit(x_train.values, y_train)\n",
    "\n",
    "y_pred = classifier.predict(x_test)\n",
    "\n",
    "accuracy = widgets.Output(layout={'border': '1px solid black'})\n",
    "display(accuracy)\n",
    "\n",
    "with accuracy:\n",
    "    print('Accuracy: ',(metrics.accuracy_score(y_test,y_pred)*100),'%')\n"
   ]
  },
  {
   "cell_type": "code",
   "execution_count": 4,
   "id": "5bc3c514",
   "metadata": {},
   "outputs": [
    {
     "data": {
      "application/vnd.jupyter.widget-view+json": {
       "model_id": "7b597a753c1e48b9a88172a46ca958b0",
       "version_major": 2,
       "version_minor": 0
      },
      "text/plain": [
       "BoundedIntText(value=0, description='Age:', max=120)"
      ]
     },
     "metadata": {},
     "output_type": "display_data"
    },
    {
     "data": {
      "application/vnd.jupyter.widget-view+json": {
       "model_id": "f24c1446b937436a96461265969d6633",
       "version_major": 2,
       "version_minor": 0
      },
      "text/plain": [
       "RadioButtons(description='Sex:', options=(('Male', 0), ('Female', 1)), value=0)"
      ]
     },
     "metadata": {},
     "output_type": "display_data"
    },
    {
     "data": {
      "application/vnd.jupyter.widget-view+json": {
       "model_id": "3e8bb7ceffbf4660826ba142f42d2dba",
       "version_major": 2,
       "version_minor": 0
      },
      "text/plain": [
       "RadioButtons(description='Smoking?', options=(('No', 0), ('Yes', 1)), value=0)"
      ]
     },
     "metadata": {},
     "output_type": "display_data"
    },
    {
     "data": {
      "application/vnd.jupyter.widget-view+json": {
       "model_id": "6587dc45c0fe477293bfd85873264c18",
       "version_major": 2,
       "version_minor": 0
      },
      "text/plain": [
       "RadioButtons(description='Has anemia?', options=(('No', 0), ('Yes', 1)), value=0)"
      ]
     },
     "metadata": {},
     "output_type": "display_data"
    },
    {
     "data": {
      "application/vnd.jupyter.widget-view+json": {
       "model_id": "050d7092a88c43de9c79fc7c70e66aed",
       "version_major": 2,
       "version_minor": 0
      },
      "text/plain": [
       "BoundedIntText(value=0, description='CPK lab result:', max=8000, style=DescriptionStyle(description_width='ini…"
      ]
     },
     "metadata": {},
     "output_type": "display_data"
    },
    {
     "data": {
      "application/vnd.jupyter.widget-view+json": {
       "model_id": "9a655938be534f12b76eb7d237387ec6",
       "version_major": 2,
       "version_minor": 0
      },
      "text/plain": [
       "RadioButtons(description='Has diabetes?', options=(('No', 0), ('Yes', 1)), style=DescriptionStyle(description_…"
      ]
     },
     "metadata": {},
     "output_type": "display_data"
    },
    {
     "data": {
      "application/vnd.jupyter.widget-view+json": {
       "model_id": "1f57ddcf775c42dd89ec36ccb40b1c13",
       "version_major": 2,
       "version_minor": 0
      },
      "text/plain": [
       "BoundedIntText(value=0, description='Ejection fraction lab result:', style=DescriptionStyle(description_width=…"
      ]
     },
     "metadata": {},
     "output_type": "display_data"
    },
    {
     "data": {
      "application/vnd.jupyter.widget-view+json": {
       "model_id": "67c9479e6c274ad3a505e23a0ce7c24b",
       "version_major": 2,
       "version_minor": 0
      },
      "text/plain": [
       "RadioButtons(description='High blood pressure?', options=(('No', 0), ('Yes', 1)), style=DescriptionStyle(descr…"
      ]
     },
     "metadata": {},
     "output_type": "display_data"
    },
    {
     "data": {
      "application/vnd.jupyter.widget-view+json": {
       "model_id": "13d158e3efbe4b3ea19e8c63b9852636",
       "version_major": 2,
       "version_minor": 0
      },
      "text/plain": [
       "BoundedIntText(value=0, description='Platelets lab result:', max=999999, style=DescriptionStyle(description_wi…"
      ]
     },
     "metadata": {},
     "output_type": "display_data"
    },
    {
     "data": {
      "application/vnd.jupyter.widget-view+json": {
       "model_id": "fe16c1f28fdd4464bef0db0dd8e2f230",
       "version_major": 2,
       "version_minor": 0
      },
      "text/plain": [
       "BoundedFloatText(value=0.0, description='Serum creatinine lab result:', max=10.0, step=0.01, style=Description…"
      ]
     },
     "metadata": {},
     "output_type": "display_data"
    },
    {
     "data": {
      "application/vnd.jupyter.widget-view+json": {
       "model_id": "3e81c2e9061449058506ed7c162ba017",
       "version_major": 2,
       "version_minor": 0
      },
      "text/plain": [
       "BoundedIntText(value=0, description='Serum sodium lab result:', max=10000, style=DescriptionStyle(description_…"
      ]
     },
     "metadata": {},
     "output_type": "display_data"
    },
    {
     "data": {
      "application/vnd.jupyter.widget-view+json": {
       "model_id": "d450f911dcd74545ae8fa98d5875c220",
       "version_major": 2,
       "version_minor": 0
      },
      "text/plain": [
       "Button(description='Calculate', style=ButtonStyle())"
      ]
     },
     "metadata": {},
     "output_type": "display_data"
    }
   ],
   "source": [
    "style = {'description_width': 'initial'}\n",
    "w_age = widgets.BoundedIntText(min=0,max=120,step=1,description='Age:',disabled=False)\n",
    "w_sex = widgets.RadioButtons(options=[('Male',0),('Female',1)],description='Sex:',disabled=False)\n",
    "w_smoking = widgets.RadioButtons(options=[('No',0),('Yes',1)],value=0,description='Smoking?',disabled=False)\n",
    "w_anemia = widgets.RadioButtons(options=[('No',0),('Yes',1)],value=0,description='Has anemia?',disabled=False)\n",
    "w_creatine = widgets.BoundedIntText(min=0,max=8000,step=1,description='CPK lab result:',style=style,disabled=False)\n",
    "w_diabetes = widgets.RadioButtons(options=[('No',0),('Yes',1)],value=0,description='Has diabetes?',style=style,disabled=False)\n",
    "w_ef = widgets.BoundedIntText(min=0,max=100,step=1,description='Ejection fraction lab result:',style=style,disabled=False)\n",
    "w_hbp = widgets.RadioButtons(options=[('No',0),('Yes',1)],value=0,description='High blood pressure?',style=style,disabled=False)\n",
    "w_platelets = widgets.BoundedIntText(min=0,max=999999,step=1,description='Platelets lab result:',style=style,disabled=False)\n",
    "w_serum_crea = widgets.BoundedFloatText(min=0,max=10,step=.01,description='Serum creatinine lab result:',style=style,disabled=False)\n",
    "w_serum_sod = widgets.BoundedIntText(min=0,max=10000,step=1,description='Serum sodium lab result:',style=style,disabled=False)\n",
    "btn = widgets.Button(description='Calculate',disabled=False,button_style='')\n",
    "display(w_age,w_sex,w_smoking,w_anemia,w_creatine,w_diabetes,w_ef,w_hbp,w_platelets,w_serum_crea,w_serum_sod,btn)\n",
    "def calc(self):\n",
    "    cust = [w_age.value,w_anemia.value,w_creatine.value,w_diabetes.value,w_ef.value,w_hbp.value,w_platelets.value,w_serum_crea.value,w_serum_sod.value,w_sex.value,w_smoking.value]\n",
    "    cust = np.array(cust)\n",
    "    cust_predict = classifier.predict(cust.reshape(1,-1))\n",
    "    result(cust_predict)\n",
    "btn.on_click(calc)\n"
   ]
  },
  {
   "cell_type": "markdown",
   "id": "56b13cc7",
   "metadata": {},
   "source": [
    "## Discount tool result:"
   ]
  },
  {
   "cell_type": "code",
   "execution_count": 5,
   "id": "70497963",
   "metadata": {},
   "outputs": [
    {
     "data": {
      "application/vnd.jupyter.widget-view+json": {
       "model_id": "c336c3daa86b4125947a25d749a13681",
       "version_major": 2,
       "version_minor": 0
      },
      "text/plain": [
       "Output()"
      ]
     },
     "metadata": {},
     "output_type": "display_data"
    }
   ],
   "source": [
    "out = widgets.Output(Layout={'border': '1px solid black'})\n",
    "display(out)\n",
    "\n",
    "@out.capture(clear_output=True,wait=True)\n",
    "def result(pred):\n",
    "    \n",
    "    if pred < 1:\n",
    "        print('Offer discount')\n",
    "    else:\n",
    "        print('No discount available')\n",
    "    "
   ]
  },
  {
   "cell_type": "markdown",
   "id": "ece0eddf",
   "metadata": {},
   "source": [
    "# Dashboard\n",
    "\n",
    "## User dashboard - data visualization"
   ]
  },
  {
   "cell_type": "code",
   "execution_count": 6,
   "id": "3424880d",
   "metadata": {},
   "outputs": [
    {
     "data": {
      "application/vnd.jupyter.widget-view+json": {
       "model_id": "890e9598898e47a297003289aa7a5a9e",
       "version_major": 2,
       "version_minor": 0
      },
      "text/plain": [
       "Label(value='Select a data feature to view range and mean values:')"
      ]
     },
     "metadata": {},
     "output_type": "display_data"
    },
    {
     "data": {
      "application/vnd.jupyter.widget-view+json": {
       "model_id": "bf9dd4e21e764754b655ae9c5beb2683",
       "version_major": 2,
       "version_minor": 0
      },
      "text/plain": [
       "RadioButtons(options=(('Age', 0), ('CPK', 2), ('Ejection fraction', 4), ('Platelets', 6), ('Serum creatinine',…"
      ]
     },
     "metadata": {},
     "output_type": "display_data"
    },
    {
     "data": {
      "application/vnd.jupyter.widget-view+json": {
       "model_id": "5bf086af5fe64dd49493c2f90bc6ccae",
       "version_major": 2,
       "version_minor": 0
      },
      "text/plain": [
       "Button(description='Get values', style=ButtonStyle())"
      ]
     },
     "metadata": {},
     "output_type": "display_data"
    },
    {
     "data": {
      "application/vnd.jupyter.widget-view+json": {
       "model_id": "1bc3f95b36d34b1b8d7f452cba33c946",
       "version_major": 2,
       "version_minor": 0
      },
      "text/plain": [
       "Output()"
      ]
     },
     "metadata": {},
     "output_type": "display_data"
    },
    {
     "data": {
      "application/vnd.jupyter.widget-view+json": {
       "model_id": "f4673cbf2351498a96efdfde16ceff1f",
       "version_major": 2,
       "version_minor": 0
      },
      "text/plain": [
       "Label(value='Select a data feature to view correlation with death event:')"
      ]
     },
     "metadata": {},
     "output_type": "display_data"
    },
    {
     "data": {
      "application/vnd.jupyter.widget-view+json": {
       "model_id": "53bcf5a1dad24ecd8cc8eea504550cfd",
       "version_major": 2,
       "version_minor": 0
      },
      "text/plain": [
       "RadioButtons(options=(('Age', 0), ('CPK', 2), ('Ejection fraction', 4), ('Platelets', 6), ('Serum creatinine',…"
      ]
     },
     "metadata": {},
     "output_type": "display_data"
    },
    {
     "data": {
      "application/vnd.jupyter.widget-view+json": {
       "model_id": "72f685a5f2854fc9b2a5be0fdf19bcc5",
       "version_major": 2,
       "version_minor": 0
      },
      "text/plain": [
       "Button(description='Get values', style=ButtonStyle())"
      ]
     },
     "metadata": {},
     "output_type": "display_data"
    }
   ],
   "source": [
    "out_dash = widgets.Output(Layout={'border':'1px solid black'})\n",
    "\n",
    "label1=widgets.Label(value='Select a data feature to view range and mean values:')\n",
    "dropdown1=widgets.RadioButtons(options=[('Age',0),('CPK',2),('Ejection fraction',4),('Platelets',6),('Serum creatinine',7),('Serum sodium',8)],\n",
    "    ensure_option=True,disabled=False)\n",
    "btn1=widgets.Button(description='Get values',disabled=False,button_style='')\n",
    "display(label1,dropdown1,btn1)\n",
    "@out_dash.capture(clear_output=True,wait=True)\n",
    "def put_values(self):\n",
    "    val = data.columns[dropdown1.value]\n",
    "    print('Range: ',get_range(val),' Mean: ',get_mean(val))\n",
    "    data.hist(column=val,bins=25)\n",
    "    plt.show()\n",
    "    \n",
    "display(out_dash)\n",
    "    \n",
    "btn1.on_click(put_values)\n",
    "\n",
    "out2=widgets.Output(Layout={'border':'1px solid black'})\n",
    "label2=widgets.Label(value='Select a data feature to view correlation with death event:')\n",
    "dropdown2=widgets.RadioButtons(options=[('Age',0),('CPK',2),('Ejection fraction',4),('Platelets',6),('Serum creatinine',7),('Serum sodium',8)],\n",
    "    ensure_option=True,disabled=False)\n",
    "btn2=widgets.Button(description='Get values',disabled=False,button_style='')\n",
    "display(label2,dropdown2,btn2)\n",
    "@out2.capture(clear_output=True,wait=True)\n",
    "def get_scatter(self):\n",
    "    val = data.columns[dropdown2.value]\n",
    "    data.plot.scatter(x=val,y='DEATH_EVENT')\n",
    "    \n",
    "btn2.on_click(get_scatter)"
   ]
  },
  {
   "cell_type": "code",
   "execution_count": 7,
   "id": "aa0bc140",
   "metadata": {},
   "outputs": [],
   "source": [
    "def get_mean(column_name):\n",
    "    mean = data[column_name].mean()\n",
    "    return mean\n",
    "\n",
    "def get_range(column_name):\n",
    "    min = data[column_name].min()\n",
    "    max = data[column_name].max()\n",
    "    return [min,max]\n"
   ]
  },
  {
   "cell_type": "markdown",
   "id": "99c316df",
   "metadata": {},
   "source": [
    "### Perform factor analysis for mixed data. Heatmap of factor analysis table."
   ]
  },
  {
   "cell_type": "code",
   "execution_count": 8,
   "id": "d3de5fc9",
   "metadata": {},
   "outputs": [
    {
     "data": {
      "text/html": [
       "<style type=\"text/css\">\n",
       "#T_24e16_row0_col0 {\n",
       "  background-color: #26828e;\n",
       "  color: #f1f1f1;\n",
       "  font-size: 11px;\n",
       "}\n",
       "#T_24e16_row0_col1 {\n",
       "  background-color: #2b748e;\n",
       "  color: #f1f1f1;\n",
       "  font-size: 11px;\n",
       "}\n",
       "#T_24e16_row0_col2 {\n",
       "  background-color: #460a5d;\n",
       "  color: #f1f1f1;\n",
       "  font-size: 11px;\n",
       "}\n",
       "#T_24e16_row0_col3 {\n",
       "  background-color: #2eb37c;\n",
       "  color: #f1f1f1;\n",
       "  font-size: 11px;\n",
       "}\n",
       "#T_24e16_row0_col4 {\n",
       "  background-color: #453581;\n",
       "  color: #f1f1f1;\n",
       "  font-size: 11px;\n",
       "}\n",
       "#T_24e16_row0_col5 {\n",
       "  background-color: #1e9c89;\n",
       "  color: #f1f1f1;\n",
       "  font-size: 11px;\n",
       "}\n",
       "#T_24e16_row0_col6, #T_24e16_row1_col2, #T_24e16_row1_col9, #T_24e16_row2_col0, #T_24e16_row2_col4, #T_24e16_row3_col8, #T_24e16_row5_col1, #T_24e16_row5_col3, #T_24e16_row5_col5, #T_24e16_row6_col7, #T_24e16_row6_col9, #T_24e16_row6_col10, #T_24e16_row6_col11 {\n",
       "  background-color: #fde725;\n",
       "  color: #000000;\n",
       "  font-size: 11px;\n",
       "}\n",
       "#T_24e16_row0_col7, #T_24e16_row2_col3 {\n",
       "  background-color: #433e85;\n",
       "  color: #f1f1f1;\n",
       "  font-size: 11px;\n",
       "}\n",
       "#T_24e16_row0_col8 {\n",
       "  background-color: #b8de29;\n",
       "  color: #000000;\n",
       "  font-size: 11px;\n",
       "}\n",
       "#T_24e16_row0_col9 {\n",
       "  background-color: #27ad81;\n",
       "  color: #f1f1f1;\n",
       "  font-size: 11px;\n",
       "}\n",
       "#T_24e16_row0_col10 {\n",
       "  background-color: #b0dd2f;\n",
       "  color: #000000;\n",
       "  font-size: 11px;\n",
       "}\n",
       "#T_24e16_row0_col11, #T_24e16_row8_col1, #T_24e16_row9_col1, #T_24e16_row10_col1, #T_24e16_row11_col1 {\n",
       "  background-color: #21908d;\n",
       "  color: #f1f1f1;\n",
       "  font-size: 11px;\n",
       "}\n",
       "#T_24e16_row1_col0, #T_24e16_row3_col1 {\n",
       "  background-color: #287d8e;\n",
       "  color: #f1f1f1;\n",
       "  font-size: 11px;\n",
       "}\n",
       "#T_24e16_row1_col1, #T_24e16_row1_col4, #T_24e16_row1_col5, #T_24e16_row1_col6, #T_24e16_row2_col2, #T_24e16_row2_col6, #T_24e16_row3_col0, #T_24e16_row3_col2, #T_24e16_row3_col6, #T_24e16_row3_col7, #T_24e16_row3_col11, #T_24e16_row4_col2, #T_24e16_row4_col6, #T_24e16_row4_col8, #T_24e16_row5_col2, #T_24e16_row5_col6, #T_24e16_row5_col9, #T_24e16_row5_col10, #T_24e16_row6_col2, #T_24e16_row6_col3, #T_24e16_row6_col6, #T_24e16_row7_col2, #T_24e16_row7_col6, #T_24e16_row8_col2, #T_24e16_row8_col6, #T_24e16_row9_col2, #T_24e16_row9_col6, #T_24e16_row10_col2, #T_24e16_row10_col6, #T_24e16_row11_col2, #T_24e16_row11_col6 {\n",
       "  background-color: #440154;\n",
       "  color: #f1f1f1;\n",
       "  font-size: 11px;\n",
       "}\n",
       "#T_24e16_row1_col3 {\n",
       "  background-color: #2e6f8e;\n",
       "  color: #f1f1f1;\n",
       "  font-size: 11px;\n",
       "}\n",
       "#T_24e16_row1_col7 {\n",
       "  background-color: #3c4f8a;\n",
       "  color: #f1f1f1;\n",
       "  font-size: 11px;\n",
       "}\n",
       "#T_24e16_row1_col8 {\n",
       "  background-color: #b5de2b;\n",
       "  color: #000000;\n",
       "  font-size: 11px;\n",
       "}\n",
       "#T_24e16_row1_col10, #T_24e16_row4_col9, #T_24e16_row8_col10, #T_24e16_row9_col10, #T_24e16_row10_col10, #T_24e16_row11_col10 {\n",
       "  background-color: #90d743;\n",
       "  color: #000000;\n",
       "  font-size: 11px;\n",
       "}\n",
       "#T_24e16_row1_col11, #T_24e16_row2_col5 {\n",
       "  background-color: #35b779;\n",
       "  color: #f1f1f1;\n",
       "  font-size: 11px;\n",
       "}\n",
       "#T_24e16_row2_col1, #T_24e16_row4_col3, #T_24e16_row4_col7 {\n",
       "  background-color: #3aba76;\n",
       "  color: #f1f1f1;\n",
       "  font-size: 11px;\n",
       "}\n",
       "#T_24e16_row2_col7 {\n",
       "  background-color: #218f8d;\n",
       "  color: #f1f1f1;\n",
       "  font-size: 11px;\n",
       "}\n",
       "#T_24e16_row2_col8 {\n",
       "  background-color: #d2e21b;\n",
       "  color: #000000;\n",
       "  font-size: 11px;\n",
       "}\n",
       "#T_24e16_row2_col9 {\n",
       "  background-color: #67cc5c;\n",
       "  color: #000000;\n",
       "  font-size: 11px;\n",
       "}\n",
       "#T_24e16_row2_col10 {\n",
       "  background-color: #6ccd5a;\n",
       "  color: #000000;\n",
       "  font-size: 11px;\n",
       "}\n",
       "#T_24e16_row2_col11, #T_24e16_row7_col11, #T_24e16_row8_col11, #T_24e16_row9_col11, #T_24e16_row10_col11, #T_24e16_row11_col11 {\n",
       "  background-color: #1fa187;\n",
       "  color: #f1f1f1;\n",
       "  font-size: 11px;\n",
       "}\n",
       "#T_24e16_row3_col3 {\n",
       "  background-color: #1f9e89;\n",
       "  color: #f1f1f1;\n",
       "  font-size: 11px;\n",
       "}\n",
       "#T_24e16_row3_col4 {\n",
       "  background-color: #ece51b;\n",
       "  color: #000000;\n",
       "  font-size: 11px;\n",
       "}\n",
       "#T_24e16_row3_col5 {\n",
       "  background-color: #482173;\n",
       "  color: #f1f1f1;\n",
       "  font-size: 11px;\n",
       "}\n",
       "#T_24e16_row3_col9 {\n",
       "  background-color: #20a386;\n",
       "  color: #f1f1f1;\n",
       "  font-size: 11px;\n",
       "}\n",
       "#T_24e16_row3_col10 {\n",
       "  background-color: #4cc26c;\n",
       "  color: #000000;\n",
       "  font-size: 11px;\n",
       "}\n",
       "#T_24e16_row4_col0 {\n",
       "  background-color: #23898e;\n",
       "  color: #f1f1f1;\n",
       "  font-size: 11px;\n",
       "}\n",
       "#T_24e16_row4_col1 {\n",
       "  background-color: #2e6d8e;\n",
       "  color: #f1f1f1;\n",
       "  font-size: 11px;\n",
       "}\n",
       "#T_24e16_row4_col4 {\n",
       "  background-color: #482374;\n",
       "  color: #f1f1f1;\n",
       "  font-size: 11px;\n",
       "}\n",
       "#T_24e16_row4_col5 {\n",
       "  background-color: #46307e;\n",
       "  color: #f1f1f1;\n",
       "  font-size: 11px;\n",
       "}\n",
       "#T_24e16_row4_col10 {\n",
       "  background-color: #77d153;\n",
       "  color: #000000;\n",
       "  font-size: 11px;\n",
       "}\n",
       "#T_24e16_row4_col11 {\n",
       "  background-color: #69cd5b;\n",
       "  color: #000000;\n",
       "  font-size: 11px;\n",
       "}\n",
       "#T_24e16_row5_col0, #T_24e16_row7_col0, #T_24e16_row8_col0, #T_24e16_row9_col0, #T_24e16_row10_col0, #T_24e16_row11_col0 {\n",
       "  background-color: #228b8d;\n",
       "  color: #f1f1f1;\n",
       "  font-size: 11px;\n",
       "}\n",
       "#T_24e16_row5_col4, #T_24e16_row6_col4, #T_24e16_row7_col4, #T_24e16_row8_col4, #T_24e16_row9_col4, #T_24e16_row10_col4, #T_24e16_row11_col4 {\n",
       "  background-color: #481769;\n",
       "  color: #f1f1f1;\n",
       "  font-size: 11px;\n",
       "}\n",
       "#T_24e16_row5_col7 {\n",
       "  background-color: #218e8d;\n",
       "  color: #f1f1f1;\n",
       "  font-size: 11px;\n",
       "}\n",
       "#T_24e16_row5_col8, #T_24e16_row6_col8 {\n",
       "  background-color: #95d840;\n",
       "  color: #000000;\n",
       "  font-size: 11px;\n",
       "}\n",
       "#T_24e16_row5_col11 {\n",
       "  background-color: #89d548;\n",
       "  color: #000000;\n",
       "  font-size: 11px;\n",
       "}\n",
       "#T_24e16_row6_col0 {\n",
       "  background-color: #238a8d;\n",
       "  color: #f1f1f1;\n",
       "  font-size: 11px;\n",
       "}\n",
       "#T_24e16_row6_col1 {\n",
       "  background-color: #5ac864;\n",
       "  color: #000000;\n",
       "  font-size: 11px;\n",
       "}\n",
       "#T_24e16_row6_col5 {\n",
       "  background-color: #228d8d;\n",
       "  color: #f1f1f1;\n",
       "  font-size: 11px;\n",
       "}\n",
       "#T_24e16_row7_col1 {\n",
       "  background-color: #20928c;\n",
       "  color: #f1f1f1;\n",
       "  font-size: 11px;\n",
       "}\n",
       "#T_24e16_row7_col3 {\n",
       "  background-color: #27808e;\n",
       "  color: #f1f1f1;\n",
       "  font-size: 11px;\n",
       "}\n",
       "#T_24e16_row7_col5 {\n",
       "  background-color: #453781;\n",
       "  color: #f1f1f1;\n",
       "  font-size: 11px;\n",
       "}\n",
       "#T_24e16_row7_col7 {\n",
       "  background-color: #355e8d;\n",
       "  color: #f1f1f1;\n",
       "  font-size: 11px;\n",
       "}\n",
       "#T_24e16_row7_col8, #T_24e16_row8_col8, #T_24e16_row9_col8, #T_24e16_row10_col8, #T_24e16_row11_col8 {\n",
       "  background-color: #93d741;\n",
       "  color: #000000;\n",
       "  font-size: 11px;\n",
       "}\n",
       "#T_24e16_row7_col9 {\n",
       "  background-color: #9dd93b;\n",
       "  color: #000000;\n",
       "  font-size: 11px;\n",
       "}\n",
       "#T_24e16_row7_col10 {\n",
       "  background-color: #8bd646;\n",
       "  color: #000000;\n",
       "  font-size: 11px;\n",
       "}\n",
       "#T_24e16_row8_col3, #T_24e16_row9_col3, #T_24e16_row10_col3, #T_24e16_row11_col3 {\n",
       "  background-color: #2a778e;\n",
       "  color: #f1f1f1;\n",
       "  font-size: 11px;\n",
       "}\n",
       "#T_24e16_row8_col5, #T_24e16_row9_col5, #T_24e16_row10_col5, #T_24e16_row11_col5 {\n",
       "  background-color: #32658e;\n",
       "  color: #f1f1f1;\n",
       "  font-size: 11px;\n",
       "}\n",
       "#T_24e16_row8_col7, #T_24e16_row9_col7, #T_24e16_row10_col7, #T_24e16_row11_col7 {\n",
       "  background-color: #38588c;\n",
       "  color: #f1f1f1;\n",
       "  font-size: 11px;\n",
       "}\n",
       "#T_24e16_row8_col9, #T_24e16_row9_col9, #T_24e16_row10_col9, #T_24e16_row11_col9 {\n",
       "  background-color: #9bd93c;\n",
       "  color: #000000;\n",
       "  font-size: 11px;\n",
       "}\n",
       "</style>\n",
       "<table id=\"T_24e16\">\n",
       "  <thead>\n",
       "    <tr>\n",
       "      <th class=\"blank level0\" >&nbsp;</th>\n",
       "      <th id=\"T_24e16_level0_col0\" class=\"col_heading level0 col0\" >age</th>\n",
       "      <th id=\"T_24e16_level0_col1\" class=\"col_heading level0 col1\" >anaemia</th>\n",
       "      <th id=\"T_24e16_level0_col2\" class=\"col_heading level0 col2\" >creatinine_phosphokinase</th>\n",
       "      <th id=\"T_24e16_level0_col3\" class=\"col_heading level0 col3\" >diabetes</th>\n",
       "      <th id=\"T_24e16_level0_col4\" class=\"col_heading level0 col4\" >ejection_fraction</th>\n",
       "      <th id=\"T_24e16_level0_col5\" class=\"col_heading level0 col5\" >high_blood_pressure</th>\n",
       "      <th id=\"T_24e16_level0_col6\" class=\"col_heading level0 col6\" >platelets</th>\n",
       "      <th id=\"T_24e16_level0_col7\" class=\"col_heading level0 col7\" >serum_creatinine</th>\n",
       "      <th id=\"T_24e16_level0_col8\" class=\"col_heading level0 col8\" >serum_sodium</th>\n",
       "      <th id=\"T_24e16_level0_col9\" class=\"col_heading level0 col9\" >sex</th>\n",
       "      <th id=\"T_24e16_level0_col10\" class=\"col_heading level0 col10\" >smoking</th>\n",
       "      <th id=\"T_24e16_level0_col11\" class=\"col_heading level0 col11\" >DEATH_EVENT</th>\n",
       "    </tr>\n",
       "  </thead>\n",
       "  <tbody>\n",
       "    <tr>\n",
       "      <th id=\"T_24e16_level0_row0\" class=\"row_heading level0 row0\" >0</th>\n",
       "      <td id=\"T_24e16_row0_col0\" class=\"data row0 col0\" >-0.621705</td>\n",
       "      <td id=\"T_24e16_row0_col1\" class=\"data row0 col1\" >-0.021686</td>\n",
       "      <td id=\"T_24e16_row0_col2\" class=\"data row0 col2\" >23.699134</td>\n",
       "      <td id=\"T_24e16_row0_col3\" class=\"data row0 col3\" >0.045473</td>\n",
       "      <td id=\"T_24e16_row0_col4\" class=\"data row0 col4\" >0.852778</td>\n",
       "      <td id=\"T_24e16_row0_col5\" class=\"data row0 col5\" >0.023849</td>\n",
       "      <td id=\"T_24e16_row0_col6\" class=\"data row0 col6\" >97640.547649</td>\n",
       "      <td id=\"T_24e16_row0_col7\" class=\"data row0 col7\" >-0.042549</td>\n",
       "      <td id=\"T_24e16_row0_col8\" class=\"data row0 col8\" >0.273665</td>\n",
       "      <td id=\"T_24e16_row0_col9\" class=\"data row0 col9\" >-0.059724</td>\n",
       "      <td id=\"T_24e16_row0_col10\" class=\"data row0 col10\" >0.013182</td>\n",
       "      <td id=\"T_24e16_row0_col11\" class=\"data row0 col11\" >-0.022942</td>\n",
       "    </tr>\n",
       "    <tr>\n",
       "      <th id=\"T_24e16_level0_row1\" class=\"row_heading level0 row1\" >1</th>\n",
       "      <td id=\"T_24e16_row1_col0\" class=\"data row1 col0\" >-0.954023</td>\n",
       "      <td id=\"T_24e16_row1_col1\" class=\"data row1 col1\" >-0.093968</td>\n",
       "      <td id=\"T_24e16_row1_col2\" class=\"data row1 col2\" >968.373498</td>\n",
       "      <td id=\"T_24e16_row1_col3\" class=\"data row1 col3\" >-0.005868</td>\n",
       "      <td id=\"T_24e16_row1_col4\" class=\"data row1 col4\" >-0.541914</td>\n",
       "      <td id=\"T_24e16_row1_col5\" class=\"data row1 col5\" >-0.034289</td>\n",
       "      <td id=\"T_24e16_row1_col6\" class=\"data row1 col6\" >-0.235046</td>\n",
       "      <td id=\"T_24e16_row1_col7\" class=\"data row1 col7\" >-0.015912</td>\n",
       "      <td id=\"T_24e16_row1_col8\" class=\"data row1 col8\" >0.255707</td>\n",
       "      <td id=\"T_24e16_row1_col9\" class=\"data row1 col9\" >0.039560</td>\n",
       "      <td id=\"T_24e16_row1_col10\" class=\"data row1 col10\" >0.000808</td>\n",
       "      <td id=\"T_24e16_row1_col11\" class=\"data row1 col11\" >0.029857</td>\n",
       "    </tr>\n",
       "    <tr>\n",
       "      <th id=\"T_24e16_level0_row2\" class=\"row_heading level0 row2\" >2</th>\n",
       "      <td id=\"T_24e16_row2_col0\" class=\"data row2 col0\" >8.704300</td>\n",
       "      <td id=\"T_24e16_row2_col1\" class=\"data row2 col1\" >0.033731</td>\n",
       "      <td id=\"T_24e16_row2_col2\" class=\"data row2 col2\" >0.013190</td>\n",
       "      <td id=\"T_24e16_row2_col3\" class=\"data row2 col3\" >-0.038386</td>\n",
       "      <td id=\"T_24e16_row2_col4\" class=\"data row2 col4\" >8.415139</td>\n",
       "      <td id=\"T_24e16_row2_col5\" class=\"data row2 col5\" >0.036243</td>\n",
       "      <td id=\"T_24e16_row2_col6\" class=\"data row2 col6\" >-0.000023</td>\n",
       "      <td id=\"T_24e16_row2_col7\" class=\"data row2 col7\" >0.104428</td>\n",
       "      <td id=\"T_24e16_row2_col8\" class=\"data row2 col8\" >0.458159</td>\n",
       "      <td id=\"T_24e16_row2_col9\" class=\"data row2 col9\" >-0.022012</td>\n",
       "      <td id=\"T_24e16_row2_col10\" class=\"data row2 col10\" >-0.015295</td>\n",
       "      <td id=\"T_24e16_row2_col11\" class=\"data row2 col11\" >0.000251</td>\n",
       "    </tr>\n",
       "    <tr>\n",
       "      <th id=\"T_24e16_level0_row3\" class=\"row_heading level0 row3\" >3</th>\n",
       "      <td id=\"T_24e16_row3_col0\" class=\"data row3 col0\" >-7.933620</td>\n",
       "      <td id=\"T_24e16_row3_col1\" class=\"data row3 col1\" >-0.015019</td>\n",
       "      <td id=\"T_24e16_row3_col2\" class=\"data row3 col2\" >-0.003427</td>\n",
       "      <td id=\"T_24e16_row3_col3\" class=\"data row3 col3\" >0.029085</td>\n",
       "      <td id=\"T_24e16_row3_col4\" class=\"data row3 col4\" >8.164138</td>\n",
       "      <td id=\"T_24e16_row3_col5\" class=\"data row3 col5\" >-0.024467</td>\n",
       "      <td id=\"T_24e16_row3_col6\" class=\"data row3 col6\" >-0.000124</td>\n",
       "      <td id=\"T_24e16_row3_col7\" class=\"data row3 col7\" >-0.129465</td>\n",
       "      <td id=\"T_24e16_row3_col8\" class=\"data row3 col8\" >0.804298</td>\n",
       "      <td id=\"T_24e16_row3_col9\" class=\"data row3 col9\" >-0.070847</td>\n",
       "      <td id=\"T_24e16_row3_col10\" class=\"data row3 col10\" >-0.030942</td>\n",
       "      <td id=\"T_24e16_row3_col11\" class=\"data row3 col11\" >-0.179793</td>\n",
       "    </tr>\n",
       "    <tr>\n",
       "      <th id=\"T_24e16_level0_row4\" class=\"row_heading level0 row4\" >4</th>\n",
       "      <td id=\"T_24e16_row4_col0\" class=\"data row4 col0\" >-0.096600</td>\n",
       "      <td id=\"T_24e16_row4_col1\" class=\"data row4 col1\" >-0.027595</td>\n",
       "      <td id=\"T_24e16_row4_col2\" class=\"data row4 col2\" >0.001170</td>\n",
       "      <td id=\"T_24e16_row4_col3\" class=\"data row4 col3\" >0.050538</td>\n",
       "      <td id=\"T_24e16_row4_col4\" class=\"data row4 col4\" >0.326378</td>\n",
       "      <td id=\"T_24e16_row4_col5\" class=\"data row4 col5\" >-0.019690</td>\n",
       "      <td id=\"T_24e16_row4_col6\" class=\"data row4 col6\" >0.000008</td>\n",
       "      <td id=\"T_24e16_row4_col7\" class=\"data row4 col7\" >0.190987</td>\n",
       "      <td id=\"T_24e16_row4_col8\" class=\"data row4 col8\" >-4.172209</td>\n",
       "      <td id=\"T_24e16_row4_col9\" class=\"data row4 col9\" >-0.004438</td>\n",
       "      <td id=\"T_24e16_row4_col10\" class=\"data row4 col10\" >-0.009645</td>\n",
       "      <td id=\"T_24e16_row4_col11\" class=\"data row4 col11\" >0.062963</td>\n",
       "    </tr>\n",
       "    <tr>\n",
       "      <th id=\"T_24e16_level0_row5\" class=\"row_heading level0 row5\" >5</th>\n",
       "      <td id=\"T_24e16_row5_col0\" class=\"data row5 col0\" >-0.002272</td>\n",
       "      <td id=\"T_24e16_row5_col1\" class=\"data row5 col1\" >0.094069</td>\n",
       "      <td id=\"T_24e16_row5_col2\" class=\"data row5 col2\" >0.000075</td>\n",
       "      <td id=\"T_24e16_row5_col3\" class=\"data row5 col3\" >0.108711</td>\n",
       "      <td id=\"T_24e16_row5_col4\" class=\"data row5 col4\" >-0.005265</td>\n",
       "      <td id=\"T_24e16_row5_col5\" class=\"data row5 col5\" >0.071481</td>\n",
       "      <td id=\"T_24e16_row5_col6\" class=\"data row5 col6\" >-0.000001</td>\n",
       "      <td id=\"T_24e16_row5_col7\" class=\"data row5 col7\" >0.103153</td>\n",
       "      <td id=\"T_24e16_row5_col8\" class=\"data row5 col8\" >0.015856</td>\n",
       "      <td id=\"T_24e16_row5_col9\" class=\"data row5 col9\" >-0.224084</td>\n",
       "      <td id=\"T_24e16_row5_col10\" class=\"data row5 col10\" >-0.220468</td>\n",
       "      <td id=\"T_24e16_row5_col11\" class=\"data row5 col11\" >0.078733</td>\n",
       "    </tr>\n",
       "    <tr>\n",
       "      <th id=\"T_24e16_level0_row6\" class=\"row_heading level0 row6\" >6</th>\n",
       "      <td id=\"T_24e16_row6_col0\" class=\"data row6 col0\" >-0.015417</td>\n",
       "      <td id=\"T_24e16_row6_col1\" class=\"data row6 col1\" >0.045631</td>\n",
       "      <td id=\"T_24e16_row6_col2\" class=\"data row6 col2\" >-0.000021</td>\n",
       "      <td id=\"T_24e16_row6_col3\" class=\"data row6 col3\" >-0.071134</td>\n",
       "      <td id=\"T_24e16_row6_col4\" class=\"data row6 col4\" >0.008736</td>\n",
       "      <td id=\"T_24e16_row6_col5\" class=\"data row6 col5\" >0.017258</td>\n",
       "      <td id=\"T_24e16_row6_col6\" class=\"data row6 col6\" >0.000000</td>\n",
       "      <td id=\"T_24e16_row6_col7\" class=\"data row6 col7\" >0.344355</td>\n",
       "      <td id=\"T_24e16_row6_col8\" class=\"data row6 col8\" >0.022282</td>\n",
       "      <td id=\"T_24e16_row6_col9\" class=\"data row6 col9\" >0.039601</td>\n",
       "      <td id=\"T_24e16_row6_col10\" class=\"data row6 col10\" >0.044396</td>\n",
       "      <td id=\"T_24e16_row6_col11\" class=\"data row6 col11\" >0.134193</td>\n",
       "    </tr>\n",
       "    <tr>\n",
       "      <th id=\"T_24e16_level0_row7\" class=\"row_heading level0 row7\" >7</th>\n",
       "      <td id=\"T_24e16_row7_col0\" class=\"data row7 col0\" >0.000276</td>\n",
       "      <td id=\"T_24e16_row7_col1\" class=\"data row7 col1\" >0.002155</td>\n",
       "      <td id=\"T_24e16_row7_col2\" class=\"data row7 col2\" >-0.000002</td>\n",
       "      <td id=\"T_24e16_row7_col3\" class=\"data row7 col3\" >0.006304</td>\n",
       "      <td id=\"T_24e16_row7_col4\" class=\"data row7 col4\" >-0.000045</td>\n",
       "      <td id=\"T_24e16_row7_col5\" class=\"data row7 col5\" >-0.017516</td>\n",
       "      <td id=\"T_24e16_row7_col6\" class=\"data row7 col6\" >0.000000</td>\n",
       "      <td id=\"T_24e16_row7_col7\" class=\"data row7 col7\" >0.009371</td>\n",
       "      <td id=\"T_24e16_row7_col8\" class=\"data row7 col8\" >0.001041</td>\n",
       "      <td id=\"T_24e16_row7_col9\" class=\"data row7 col9\" >0.000472</td>\n",
       "      <td id=\"T_24e16_row7_col10\" class=\"data row7 col10\" >-0.001444</td>\n",
       "      <td id=\"T_24e16_row7_col11\" class=\"data row7 col11\" >-0.000350</td>\n",
       "    </tr>\n",
       "    <tr>\n",
       "      <th id=\"T_24e16_level0_row8\" class=\"row_heading level0 row8\" >8</th>\n",
       "      <td id=\"T_24e16_row8_col0\" class=\"data row8 col0\" >0.000000</td>\n",
       "      <td id=\"T_24e16_row8_col1\" class=\"data row8 col1\" >-0.000000</td>\n",
       "      <td id=\"T_24e16_row8_col2\" class=\"data row8 col2\" >-0.000000</td>\n",
       "      <td id=\"T_24e16_row8_col3\" class=\"data row8 col3\" >0.000000</td>\n",
       "      <td id=\"T_24e16_row8_col4\" class=\"data row8 col4\" >0.000000</td>\n",
       "      <td id=\"T_24e16_row8_col5\" class=\"data row8 col5\" >0.000000</td>\n",
       "      <td id=\"T_24e16_row8_col6\" class=\"data row8 col6\" >-0.000000</td>\n",
       "      <td id=\"T_24e16_row8_col7\" class=\"data row8 col7\" >0.000000</td>\n",
       "      <td id=\"T_24e16_row8_col8\" class=\"data row8 col8\" >0.000000</td>\n",
       "      <td id=\"T_24e16_row8_col9\" class=\"data row8 col9\" >-0.000000</td>\n",
       "      <td id=\"T_24e16_row8_col10\" class=\"data row8 col10\" >0.000000</td>\n",
       "      <td id=\"T_24e16_row8_col11\" class=\"data row8 col11\" >0.000000</td>\n",
       "    </tr>\n",
       "    <tr>\n",
       "      <th id=\"T_24e16_level0_row9\" class=\"row_heading level0 row9\" >9</th>\n",
       "      <td id=\"T_24e16_row9_col0\" class=\"data row9 col0\" >0.000000</td>\n",
       "      <td id=\"T_24e16_row9_col1\" class=\"data row9 col1\" >-0.000000</td>\n",
       "      <td id=\"T_24e16_row9_col2\" class=\"data row9 col2\" >-0.000000</td>\n",
       "      <td id=\"T_24e16_row9_col3\" class=\"data row9 col3\" >-0.000000</td>\n",
       "      <td id=\"T_24e16_row9_col4\" class=\"data row9 col4\" >-0.000000</td>\n",
       "      <td id=\"T_24e16_row9_col5\" class=\"data row9 col5\" >-0.000000</td>\n",
       "      <td id=\"T_24e16_row9_col6\" class=\"data row9 col6\" >0.000000</td>\n",
       "      <td id=\"T_24e16_row9_col7\" class=\"data row9 col7\" >0.000000</td>\n",
       "      <td id=\"T_24e16_row9_col8\" class=\"data row9 col8\" >-0.000000</td>\n",
       "      <td id=\"T_24e16_row9_col9\" class=\"data row9 col9\" >-0.000000</td>\n",
       "      <td id=\"T_24e16_row9_col10\" class=\"data row9 col10\" >-0.000000</td>\n",
       "      <td id=\"T_24e16_row9_col11\" class=\"data row9 col11\" >-0.000000</td>\n",
       "    </tr>\n",
       "    <tr>\n",
       "      <th id=\"T_24e16_level0_row10\" class=\"row_heading level0 row10\" >10</th>\n",
       "      <td id=\"T_24e16_row10_col0\" class=\"data row10 col0\" >0.000000</td>\n",
       "      <td id=\"T_24e16_row10_col1\" class=\"data row10 col1\" >0.000000</td>\n",
       "      <td id=\"T_24e16_row10_col2\" class=\"data row10 col2\" >0.000000</td>\n",
       "      <td id=\"T_24e16_row10_col3\" class=\"data row10 col3\" >0.000000</td>\n",
       "      <td id=\"T_24e16_row10_col4\" class=\"data row10 col4\" >-0.000000</td>\n",
       "      <td id=\"T_24e16_row10_col5\" class=\"data row10 col5\" >0.000000</td>\n",
       "      <td id=\"T_24e16_row10_col6\" class=\"data row10 col6\" >-0.000000</td>\n",
       "      <td id=\"T_24e16_row10_col7\" class=\"data row10 col7\" >0.000000</td>\n",
       "      <td id=\"T_24e16_row10_col8\" class=\"data row10 col8\" >0.000000</td>\n",
       "      <td id=\"T_24e16_row10_col9\" class=\"data row10 col9\" >0.000000</td>\n",
       "      <td id=\"T_24e16_row10_col10\" class=\"data row10 col10\" >-0.000000</td>\n",
       "      <td id=\"T_24e16_row10_col11\" class=\"data row10 col11\" >-0.000000</td>\n",
       "    </tr>\n",
       "    <tr>\n",
       "      <th id=\"T_24e16_level0_row11\" class=\"row_heading level0 row11\" >11</th>\n",
       "      <td id=\"T_24e16_row11_col0\" class=\"data row11 col0\" >0.000000</td>\n",
       "      <td id=\"T_24e16_row11_col1\" class=\"data row11 col1\" >0.000000</td>\n",
       "      <td id=\"T_24e16_row11_col2\" class=\"data row11 col2\" >0.000000</td>\n",
       "      <td id=\"T_24e16_row11_col3\" class=\"data row11 col3\" >0.000000</td>\n",
       "      <td id=\"T_24e16_row11_col4\" class=\"data row11 col4\" >-0.000000</td>\n",
       "      <td id=\"T_24e16_row11_col5\" class=\"data row11 col5\" >-0.000000</td>\n",
       "      <td id=\"T_24e16_row11_col6\" class=\"data row11 col6\" >-0.000000</td>\n",
       "      <td id=\"T_24e16_row11_col7\" class=\"data row11 col7\" >0.000000</td>\n",
       "      <td id=\"T_24e16_row11_col8\" class=\"data row11 col8\" >-0.000000</td>\n",
       "      <td id=\"T_24e16_row11_col9\" class=\"data row11 col9\" >-0.000000</td>\n",
       "      <td id=\"T_24e16_row11_col10\" class=\"data row11 col10\" >0.000000</td>\n",
       "      <td id=\"T_24e16_row11_col11\" class=\"data row11 col11\" >-0.000000</td>\n",
       "    </tr>\n",
       "  </tbody>\n",
       "</table>\n"
      ],
      "text/plain": [
       "<pandas.io.formats.style.Styler at 0x1cc39404f40>"
      ]
     },
     "execution_count": 8,
     "metadata": {},
     "output_type": "execute_result"
    }
   ],
   "source": [
    "factor=FactorAnalysis().fit(data)\n",
    "\n",
    "df = pd.DataFrame(factor.components_,columns=data.columns)\n",
    "df.style.background_gradient(cmap ='viridis')\\\n",
    "        .set_properties(**{'font-size': '11px'})"
   ]
  },
  {
   "cell_type": "code",
   "execution_count": null,
   "id": "99361283",
   "metadata": {},
   "outputs": [],
   "source": []
  }
 ],
 "metadata": {
  "kernelspec": {
   "display_name": "Python 3 (ipykernel)",
   "language": "python",
   "name": "python3"
  },
  "language_info": {
   "codemirror_mode": {
    "name": "ipython",
    "version": 3
   },
   "file_extension": ".py",
   "mimetype": "text/x-python",
   "name": "python",
   "nbconvert_exporter": "python",
   "pygments_lexer": "ipython3",
   "version": "3.9.12"
  }
 },
 "nbformat": 4,
 "nbformat_minor": 5
}
