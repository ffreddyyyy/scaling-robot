{
 "cells": [
  {
   "cell_type": "markdown",
   "id": "d6e8c86d",
   "metadata": {},
   "source": [
    "# Discount Tool Web App\n",
    "\n",
    "## Heart disease discount tool"
   ]
  },
  {
   "cell_type": "code",
   "execution_count": 18,
   "id": "90ac88e0",
   "metadata": {},
   "outputs": [],
   "source": [
    "import pandas as pd\n",
    "from sklearn import model_selection\n",
    "from sklearn import metrics\n",
    "from sklearn.ensemble import RandomForestClassifier\n",
    "from sklearn.decomposition import FactorAnalysis\n",
    "import numpy as np\n",
    "import matplotlib.pyplot as plt\n",
    "import sys\n",
    "import ipywidgets as widgets"
   ]
  },
  {
   "cell_type": "code",
   "execution_count": 19,
   "id": "c9b94def",
   "metadata": {},
   "outputs": [],
   "source": [
    "data = pd.read_csv(\"https://docs.google.com/spreadsheets/d/1afx1bMlAqtapyXFzHMC68AnHVDUFOAbs2Gx0DuInc0Y/export?format=csv\", header=0)\n",
    "data1 = data.groupby(['DEATH_EVENT']).nunique()"
   ]
  },
  {
   "cell_type": "markdown",
   "id": "e5fcad44",
   "metadata": {},
   "source": [
    "### Enter data and view results below"
   ]
  },
  {
   "cell_type": "code",
   "execution_count": 20,
   "id": "03864ada",
   "metadata": {},
   "outputs": [
    {
     "name": "stderr",
     "output_type": "stream",
     "text": [
      "C:\\Python310\\lib\\site-packages\\sklearn\\base.py:443: UserWarning: X has feature names, but RandomForestClassifier was fitted without feature names\n",
      "  warnings.warn(\n"
     ]
    },
    {
     "data": {
      "application/vnd.jupyter.widget-view+json": {
       "model_id": "43cdd933953d4625944b6a9282168b45",
       "version_major": 2,
       "version_minor": 0
      },
      "text/plain": [
       "Output(layout=Layout(border='1px solid black'))"
      ]
     },
     "metadata": {},
     "output_type": "display_data"
    }
   ],
   "source": [
    "data = data.drop('time', axis=1)\n",
    "y = data.DEATH_EVENT\n",
    "x = data.drop('DEATH_EVENT', axis=1)\n",
    "\n",
    "x_train, x_test, y_train, y_test = model_selection.train_test_split(x,y,test_size=0.2)\n",
    "\n",
    "classifier = RandomForestClassifier(n_estimators = 30)\n",
    "classifier.fit(x_train.values, y_train)\n",
    "\n",
    "y_pred = classifier.predict(x_test)\n",
    "\n",
    "accuracy = widgets.Output(layout={'border': '1px solid black'})\n",
    "display(accuracy)\n",
    "\n",
    "with accuracy:\n",
    "    print('Accuracy: ',(metrics.accuracy_score(y_test,y_pred)*100),'%')"
   ]
  },
  {
   "cell_type": "code",
   "execution_count": 21,
   "id": "b2f97d4e",
   "metadata": {},
   "outputs": [
    {
     "data": {
      "application/vnd.jupyter.widget-view+json": {
       "model_id": "a6b0bd2543864a58866a2194aa27f962",
       "version_major": 2,
       "version_minor": 0
      },
      "text/plain": [
       "BoundedIntText(value=0, description='Age:', max=120)"
      ]
     },
     "metadata": {},
     "output_type": "display_data"
    },
    {
     "data": {
      "application/vnd.jupyter.widget-view+json": {
       "model_id": "e75159d1922341c68e940be61e8340d0",
       "version_major": 2,
       "version_minor": 0
      },
      "text/plain": [
       "RadioButtons(description='Sex:', options=(('Male', 0), ('Female', 1)), value=0)"
      ]
     },
     "metadata": {},
     "output_type": "display_data"
    },
    {
     "data": {
      "application/vnd.jupyter.widget-view+json": {
       "model_id": "ff41d5a39df34afb8979c0d20e597fbd",
       "version_major": 2,
       "version_minor": 0
      },
      "text/plain": [
       "RadioButtons(description='Smoking?', options=(('No', 0), ('Yes', 1)), value=0)"
      ]
     },
     "metadata": {},
     "output_type": "display_data"
    },
    {
     "data": {
      "application/vnd.jupyter.widget-view+json": {
       "model_id": "b7d1845ca27746a99c5dcfcb57b271d0",
       "version_major": 2,
       "version_minor": 0
      },
      "text/plain": [
       "RadioButtons(description='Has anemia?', options=(('No', 0), ('Yes', 1)), value=0)"
      ]
     },
     "metadata": {},
     "output_type": "display_data"
    },
    {
     "data": {
      "application/vnd.jupyter.widget-view+json": {
       "model_id": "03cd817e459749b5b96af4c580d1ec63",
       "version_major": 2,
       "version_minor": 0
      },
      "text/plain": [
       "BoundedIntText(value=0, description='CPK lab result:', max=8000, style=DescriptionStyle(description_width='ini…"
      ]
     },
     "metadata": {},
     "output_type": "display_data"
    },
    {
     "data": {
      "application/vnd.jupyter.widget-view+json": {
       "model_id": "db435f8511a84bd7a65b11d7dd785400",
       "version_major": 2,
       "version_minor": 0
      },
      "text/plain": [
       "RadioButtons(description='Has diabetes?', options=(('No', 0), ('Yes', 1)), style=DescriptionStyle(description_…"
      ]
     },
     "metadata": {},
     "output_type": "display_data"
    },
    {
     "data": {
      "application/vnd.jupyter.widget-view+json": {
       "model_id": "8d8fcd73bb20472db7dbc2e7a9d58f17",
       "version_major": 2,
       "version_minor": 0
      },
      "text/plain": [
       "BoundedIntText(value=0, description='Ejection fraction lab result:', style=DescriptionStyle(description_width=…"
      ]
     },
     "metadata": {},
     "output_type": "display_data"
    },
    {
     "data": {
      "application/vnd.jupyter.widget-view+json": {
       "model_id": "0263e5241c4846b097bf72583549e051",
       "version_major": 2,
       "version_minor": 0
      },
      "text/plain": [
       "RadioButtons(description='High blood pressure?', options=(('No', 0), ('Yes', 1)), style=DescriptionStyle(descr…"
      ]
     },
     "metadata": {},
     "output_type": "display_data"
    },
    {
     "data": {
      "application/vnd.jupyter.widget-view+json": {
       "model_id": "0cbd9606153845bc82fd69f569cdbb3e",
       "version_major": 2,
       "version_minor": 0
      },
      "text/plain": [
       "BoundedIntText(value=0, description='Platelets lab result:', max=999999, style=DescriptionStyle(description_wi…"
      ]
     },
     "metadata": {},
     "output_type": "display_data"
    },
    {
     "data": {
      "application/vnd.jupyter.widget-view+json": {
       "model_id": "c55d62301581487e8894f102fa200315",
       "version_major": 2,
       "version_minor": 0
      },
      "text/plain": [
       "BoundedFloatText(value=0.0, description='Serum creatinine lab result:', max=10.0, step=0.01, style=Description…"
      ]
     },
     "metadata": {},
     "output_type": "display_data"
    },
    {
     "data": {
      "application/vnd.jupyter.widget-view+json": {
       "model_id": "0173223378804dcc9a391eeaf6df5918",
       "version_major": 2,
       "version_minor": 0
      },
      "text/plain": [
       "BoundedIntText(value=0, description='Serum sodium lab result:', max=10000, style=DescriptionStyle(description_…"
      ]
     },
     "metadata": {},
     "output_type": "display_data"
    },
    {
     "data": {
      "application/vnd.jupyter.widget-view+json": {
       "model_id": "c51e71f2402c4c799308f1f73faba7b8",
       "version_major": 2,
       "version_minor": 0
      },
      "text/plain": [
       "Button(description='Calculate', style=ButtonStyle())"
      ]
     },
     "metadata": {},
     "output_type": "display_data"
    }
   ],
   "source": [
    "style = {'description_width': 'initial'}\n",
    "w_age = widgets.BoundedIntText(min=0,max=120,step=1,description='Age:',disabled=False)\n",
    "w_sex = widgets.RadioButtons(options=[('Male',0),('Female',1)],description='Sex:',disabled=False)\n",
    "w_smoking = widgets.RadioButtons(options=[('No',0),('Yes',1)],value=0,description='Smoking?',disabled=False)\n",
    "w_anemia = widgets.RadioButtons(options=[('No',0),('Yes',1)],value=0,description='Has anemia?',disabled=False)\n",
    "w_creatine = widgets.BoundedIntText(min=0,max=8000,step=1,description='CPK lab result:',style=style,disabled=False)\n",
    "w_diabetes = widgets.RadioButtons(options=[('No',0),('Yes',1)],value=0,description='Has diabetes?',style=style,disabled=False)\n",
    "w_ef = widgets.BoundedIntText(min=0,max=100,step=1,description='Ejection fraction lab result:',style=style,disabled=False)\n",
    "w_hbp = widgets.RadioButtons(options=[('No',0),('Yes',1)],value=0,description='High blood pressure?',style=style,disabled=False)\n",
    "w_platelets = widgets.BoundedIntText(min=0,max=999999,step=1,description='Platelets lab result:',style=style,disabled=False)\n",
    "w_serum_crea = widgets.BoundedFloatText(min=0,max=10,step=.01,description='Serum creatinine lab result:',style=style,disabled=False)\n",
    "w_serum_sod = widgets.BoundedIntText(min=0,max=10000,step=1,description='Serum sodium lab result:',style=style,disabled=False)\n",
    "btn = widgets.Button(description='Calculate',disabled=False,button_style='')\n",
    "display(w_age,w_sex,w_smoking,w_anemia,w_creatine,w_diabetes,w_ef,w_hbp,w_platelets,w_serum_crea,w_serum_sod,btn)\n",
    "def calc(self):\n",
    "    cust = [w_age.value,w_anemia.value,w_creatine.value,w_diabetes.value,w_ef.value,w_hbp.value,w_platelets.value,w_serum_crea.value,w_serum_sod.value,w_sex.value,w_smoking.value]\n",
    "    cust = np.array(cust)\n",
    "    cust_predict = classifier.predict(cust.reshape(1,-1))\n",
    "    result(cust_predict)\n",
    "btn.on_click(calc)"
   ]
  },
  {
   "cell_type": "markdown",
   "id": "fb20978e",
   "metadata": {},
   "source": [
    "## Discount tool result:"
   ]
  },
  {
   "cell_type": "code",
   "execution_count": 22,
   "id": "775a33ef",
   "metadata": {},
   "outputs": [
    {
     "data": {
      "application/vnd.jupyter.widget-view+json": {
       "model_id": "85c01d9bd7bf40379f3a7a4c3b55101a",
       "version_major": 2,
       "version_minor": 0
      },
      "text/plain": [
       "Output()"
      ]
     },
     "metadata": {},
     "output_type": "display_data"
    }
   ],
   "source": [
    "out = widgets.Output(Layout={'border': '1px solid black'})\n",
    "display(out)\n",
    "\n",
    "@out.capture(clear_output=True,wait=True)\n",
    "def result(pred):\n",
    "    \n",
    "    if pred < 1:\n",
    "        print('Offer discount')\n",
    "    else:\n",
    "        print('No discount available')\n",
    "    "
   ]
  },
  {
   "cell_type": "markdown",
   "id": "91a45c06",
   "metadata": {},
   "source": [
    "# Dashboard\n",
    "\n",
    "### User dashboard - data visualization"
   ]
  },
  {
   "cell_type": "code",
   "execution_count": 23,
   "id": "b102814d",
   "metadata": {},
   "outputs": [
    {
     "data": {
      "application/vnd.jupyter.widget-view+json": {
       "model_id": "257f98c622e44ddd9c2867f5f7dae2d8",
       "version_major": 2,
       "version_minor": 0
      },
      "text/plain": [
       "Label(value='Select a data feature to view range and mean values:')"
      ]
     },
     "metadata": {},
     "output_type": "display_data"
    },
    {
     "data": {
      "application/vnd.jupyter.widget-view+json": {
       "model_id": "90e78828dc994e7682f4c55a0210ef17",
       "version_major": 2,
       "version_minor": 0
      },
      "text/plain": [
       "RadioButtons(options=(('Age', 0), ('CPK', 2), ('Ejection fraction', 4), ('Platelets', 6), ('Serum creatinine',…"
      ]
     },
     "metadata": {},
     "output_type": "display_data"
    },
    {
     "data": {
      "application/vnd.jupyter.widget-view+json": {
       "model_id": "5334ecace9f049aa8b5b5e6d3d45b98d",
       "version_major": 2,
       "version_minor": 0
      },
      "text/plain": [
       "Button(description='Get values', style=ButtonStyle())"
      ]
     },
     "metadata": {},
     "output_type": "display_data"
    },
    {
     "data": {
      "application/vnd.jupyter.widget-view+json": {
       "model_id": "d6738ecd381446349ca73f6bcf854398",
       "version_major": 2,
       "version_minor": 0
      },
      "text/plain": [
       "Output()"
      ]
     },
     "metadata": {},
     "output_type": "display_data"
    },
    {
     "data": {
      "application/vnd.jupyter.widget-view+json": {
       "model_id": "f5f3d7656abd4327b31a319d1c2c5f2a",
       "version_major": 2,
       "version_minor": 0
      },
      "text/plain": [
       "Label(value='Select a data feature to view correlation with death event:')"
      ]
     },
     "metadata": {},
     "output_type": "display_data"
    },
    {
     "data": {
      "application/vnd.jupyter.widget-view+json": {
       "model_id": "fcfb0437b1ff46f3afc98b1f01ddfacf",
       "version_major": 2,
       "version_minor": 0
      },
      "text/plain": [
       "RadioButtons(options=(('Age', 0), ('CPK', 2), ('Ejection fraction', 4), ('Platelets', 6), ('Serum creatinine',…"
      ]
     },
     "metadata": {},
     "output_type": "display_data"
    },
    {
     "data": {
      "application/vnd.jupyter.widget-view+json": {
       "model_id": "37dc0e5d06234d2184d070e8dde87c78",
       "version_major": 2,
       "version_minor": 0
      },
      "text/plain": [
       "Button(description='Get values', style=ButtonStyle())"
      ]
     },
     "metadata": {},
     "output_type": "display_data"
    },
    {
     "data": {
      "application/vnd.jupyter.widget-view+json": {
       "model_id": "aa125ec4039346e4bee8b37991c325fe",
       "version_major": 2,
       "version_minor": 0
      },
      "text/plain": [
       "Output()"
      ]
     },
     "metadata": {},
     "output_type": "display_data"
    }
   ],
   "source": [
    "out_dash = widgets.Output(Layout={'border':'1px solid black'})\n",
    "\n",
    "label1=widgets.Label(value='Select a data feature to view range and mean values:')\n",
    "dropdown1=widgets.RadioButtons(options=[('Age',0),('CPK',2),('Ejection fraction',4),('Platelets',6),('Serum creatinine',7),('Serum sodium',8)],\n",
    "    ensure_option=True,disabled=False)\n",
    "btn1=widgets.Button(description='Get values',disabled=False,button_style='')\n",
    "display(label1,dropdown1,btn1)\n",
    "@out_dash.capture(clear_output=True,wait=True)\n",
    "def put_values(self):\n",
    "    val = data.columns[dropdown1.value]\n",
    "    print('Range: ',get_range(val),' Mean: ',get_mean(val))\n",
    "    data.hist(column=val,bins=25)\n",
    "    plt.show()\n",
    "    \n",
    "display(out_dash)\n",
    "    \n",
    "btn1.on_click(put_values)\n",
    "\n",
    "out2=widgets.Output(Layout={'border':'1px solid black'})\n",
    "label2=widgets.Label(value='Select a data feature to view correlation with death event:')\n",
    "dropdown2=widgets.RadioButtons(options=[('Age',0),('CPK',2),('Ejection fraction',4),('Platelets',6),('Serum creatinine',7),('Serum sodium',8)],\n",
    "    ensure_option=True,disabled=False)\n",
    "btn2=widgets.Button(description='Get values',disabled=False,button_style='')\n",
    "display(label2,dropdown2,btn2)\n",
    "@out2.capture(clear_output=True,wait=True)\n",
    "def get_scatter(self):\n",
    "    val = data.columns[dropdown2.value]\n",
    "    data.plot.scatter(x=val,y='DEATH_EVENT')\n",
    "    plt.show()\n",
    "    \n",
    "btn2.on_click(get_scatter)\n",
    "\n",
    "display(out2)"
   ]
  },
  {
   "cell_type": "code",
   "execution_count": 24,
   "id": "d24e8171",
   "metadata": {},
   "outputs": [],
   "source": [
    "def get_mean(column_name):\n",
    "    mean = data[column_name].mean()\n",
    "    return mean\n",
    "\n",
    "def get_range(column_name):\n",
    "    min = data[column_name].min()\n",
    "    max = data[column_name].max()\n",
    "    return [min,max]"
   ]
  },
  {
   "cell_type": "markdown",
   "id": "3849bbb2",
   "metadata": {},
   "source": [
    "### Perform factor analysis for mixed data. Heatmap of factor analysis table."
   ]
  },
  {
   "cell_type": "code",
   "execution_count": 25,
   "id": "d601b29c",
   "metadata": {},
   "outputs": [
    {
     "data": {
      "text/html": [
       "<style type=\"text/css\">\n",
       "#T_dbd0d_row0_col0 {\n",
       "  background-color: #26828e;\n",
       "  color: #f1f1f1;\n",
       "  font-size: 11px;\n",
       "}\n",
       "#T_dbd0d_row0_col1 {\n",
       "  background-color: #2b748e;\n",
       "  color: #f1f1f1;\n",
       "  font-size: 11px;\n",
       "}\n",
       "#T_dbd0d_row0_col2 {\n",
       "  background-color: #460a5d;\n",
       "  color: #f1f1f1;\n",
       "  font-size: 11px;\n",
       "}\n",
       "#T_dbd0d_row0_col3 {\n",
       "  background-color: #2eb37c;\n",
       "  color: #f1f1f1;\n",
       "  font-size: 11px;\n",
       "}\n",
       "#T_dbd0d_row0_col4 {\n",
       "  background-color: #453581;\n",
       "  color: #f1f1f1;\n",
       "  font-size: 11px;\n",
       "}\n",
       "#T_dbd0d_row0_col5 {\n",
       "  background-color: #1e9c89;\n",
       "  color: #f1f1f1;\n",
       "  font-size: 11px;\n",
       "}\n",
       "#T_dbd0d_row0_col6, #T_dbd0d_row1_col2, #T_dbd0d_row1_col9, #T_dbd0d_row2_col0, #T_dbd0d_row2_col4, #T_dbd0d_row3_col8, #T_dbd0d_row5_col1, #T_dbd0d_row5_col3, #T_dbd0d_row5_col5, #T_dbd0d_row6_col7, #T_dbd0d_row6_col9, #T_dbd0d_row6_col10, #T_dbd0d_row6_col11 {\n",
       "  background-color: #fde725;\n",
       "  color: #000000;\n",
       "  font-size: 11px;\n",
       "}\n",
       "#T_dbd0d_row0_col7, #T_dbd0d_row2_col3 {\n",
       "  background-color: #433e85;\n",
       "  color: #f1f1f1;\n",
       "  font-size: 11px;\n",
       "}\n",
       "#T_dbd0d_row0_col8 {\n",
       "  background-color: #b8de29;\n",
       "  color: #000000;\n",
       "  font-size: 11px;\n",
       "}\n",
       "#T_dbd0d_row0_col9 {\n",
       "  background-color: #27ad81;\n",
       "  color: #f1f1f1;\n",
       "  font-size: 11px;\n",
       "}\n",
       "#T_dbd0d_row0_col10 {\n",
       "  background-color: #b0dd2f;\n",
       "  color: #000000;\n",
       "  font-size: 11px;\n",
       "}\n",
       "#T_dbd0d_row0_col11, #T_dbd0d_row8_col1, #T_dbd0d_row9_col1, #T_dbd0d_row10_col1, #T_dbd0d_row11_col1 {\n",
       "  background-color: #21908d;\n",
       "  color: #f1f1f1;\n",
       "  font-size: 11px;\n",
       "}\n",
       "#T_dbd0d_row1_col0, #T_dbd0d_row3_col1 {\n",
       "  background-color: #287d8e;\n",
       "  color: #f1f1f1;\n",
       "  font-size: 11px;\n",
       "}\n",
       "#T_dbd0d_row1_col1, #T_dbd0d_row1_col4, #T_dbd0d_row1_col5, #T_dbd0d_row1_col6, #T_dbd0d_row2_col2, #T_dbd0d_row2_col6, #T_dbd0d_row3_col0, #T_dbd0d_row3_col2, #T_dbd0d_row3_col6, #T_dbd0d_row3_col7, #T_dbd0d_row3_col11, #T_dbd0d_row4_col2, #T_dbd0d_row4_col6, #T_dbd0d_row4_col8, #T_dbd0d_row5_col2, #T_dbd0d_row5_col6, #T_dbd0d_row5_col9, #T_dbd0d_row5_col10, #T_dbd0d_row6_col2, #T_dbd0d_row6_col3, #T_dbd0d_row6_col6, #T_dbd0d_row7_col2, #T_dbd0d_row7_col6, #T_dbd0d_row8_col2, #T_dbd0d_row8_col6, #T_dbd0d_row9_col2, #T_dbd0d_row9_col6, #T_dbd0d_row10_col2, #T_dbd0d_row10_col6, #T_dbd0d_row11_col2, #T_dbd0d_row11_col6 {\n",
       "  background-color: #440154;\n",
       "  color: #f1f1f1;\n",
       "  font-size: 11px;\n",
       "}\n",
       "#T_dbd0d_row1_col3 {\n",
       "  background-color: #2e6f8e;\n",
       "  color: #f1f1f1;\n",
       "  font-size: 11px;\n",
       "}\n",
       "#T_dbd0d_row1_col7 {\n",
       "  background-color: #3c4f8a;\n",
       "  color: #f1f1f1;\n",
       "  font-size: 11px;\n",
       "}\n",
       "#T_dbd0d_row1_col8 {\n",
       "  background-color: #b5de2b;\n",
       "  color: #000000;\n",
       "  font-size: 11px;\n",
       "}\n",
       "#T_dbd0d_row1_col10, #T_dbd0d_row4_col9, #T_dbd0d_row8_col10, #T_dbd0d_row9_col10, #T_dbd0d_row10_col10, #T_dbd0d_row11_col10 {\n",
       "  background-color: #90d743;\n",
       "  color: #000000;\n",
       "  font-size: 11px;\n",
       "}\n",
       "#T_dbd0d_row1_col11, #T_dbd0d_row2_col5 {\n",
       "  background-color: #35b779;\n",
       "  color: #f1f1f1;\n",
       "  font-size: 11px;\n",
       "}\n",
       "#T_dbd0d_row2_col1, #T_dbd0d_row4_col3, #T_dbd0d_row4_col7 {\n",
       "  background-color: #3aba76;\n",
       "  color: #f1f1f1;\n",
       "  font-size: 11px;\n",
       "}\n",
       "#T_dbd0d_row2_col7 {\n",
       "  background-color: #218f8d;\n",
       "  color: #f1f1f1;\n",
       "  font-size: 11px;\n",
       "}\n",
       "#T_dbd0d_row2_col8 {\n",
       "  background-color: #d2e21b;\n",
       "  color: #000000;\n",
       "  font-size: 11px;\n",
       "}\n",
       "#T_dbd0d_row2_col9 {\n",
       "  background-color: #67cc5c;\n",
       "  color: #000000;\n",
       "  font-size: 11px;\n",
       "}\n",
       "#T_dbd0d_row2_col10 {\n",
       "  background-color: #6ccd5a;\n",
       "  color: #000000;\n",
       "  font-size: 11px;\n",
       "}\n",
       "#T_dbd0d_row2_col11, #T_dbd0d_row7_col11, #T_dbd0d_row8_col11, #T_dbd0d_row9_col11, #T_dbd0d_row10_col11, #T_dbd0d_row11_col11 {\n",
       "  background-color: #1fa187;\n",
       "  color: #f1f1f1;\n",
       "  font-size: 11px;\n",
       "}\n",
       "#T_dbd0d_row3_col3 {\n",
       "  background-color: #1f9e89;\n",
       "  color: #f1f1f1;\n",
       "  font-size: 11px;\n",
       "}\n",
       "#T_dbd0d_row3_col4 {\n",
       "  background-color: #ece51b;\n",
       "  color: #000000;\n",
       "  font-size: 11px;\n",
       "}\n",
       "#T_dbd0d_row3_col5 {\n",
       "  background-color: #482173;\n",
       "  color: #f1f1f1;\n",
       "  font-size: 11px;\n",
       "}\n",
       "#T_dbd0d_row3_col9 {\n",
       "  background-color: #20a386;\n",
       "  color: #f1f1f1;\n",
       "  font-size: 11px;\n",
       "}\n",
       "#T_dbd0d_row3_col10 {\n",
       "  background-color: #4cc26c;\n",
       "  color: #000000;\n",
       "  font-size: 11px;\n",
       "}\n",
       "#T_dbd0d_row4_col0 {\n",
       "  background-color: #23898e;\n",
       "  color: #f1f1f1;\n",
       "  font-size: 11px;\n",
       "}\n",
       "#T_dbd0d_row4_col1 {\n",
       "  background-color: #2e6d8e;\n",
       "  color: #f1f1f1;\n",
       "  font-size: 11px;\n",
       "}\n",
       "#T_dbd0d_row4_col4 {\n",
       "  background-color: #482374;\n",
       "  color: #f1f1f1;\n",
       "  font-size: 11px;\n",
       "}\n",
       "#T_dbd0d_row4_col5 {\n",
       "  background-color: #46307e;\n",
       "  color: #f1f1f1;\n",
       "  font-size: 11px;\n",
       "}\n",
       "#T_dbd0d_row4_col10 {\n",
       "  background-color: #77d153;\n",
       "  color: #000000;\n",
       "  font-size: 11px;\n",
       "}\n",
       "#T_dbd0d_row4_col11 {\n",
       "  background-color: #69cd5b;\n",
       "  color: #000000;\n",
       "  font-size: 11px;\n",
       "}\n",
       "#T_dbd0d_row5_col0, #T_dbd0d_row7_col0, #T_dbd0d_row8_col0, #T_dbd0d_row9_col0, #T_dbd0d_row10_col0, #T_dbd0d_row11_col0 {\n",
       "  background-color: #228b8d;\n",
       "  color: #f1f1f1;\n",
       "  font-size: 11px;\n",
       "}\n",
       "#T_dbd0d_row5_col4, #T_dbd0d_row6_col4, #T_dbd0d_row7_col4, #T_dbd0d_row8_col4, #T_dbd0d_row9_col4, #T_dbd0d_row10_col4, #T_dbd0d_row11_col4 {\n",
       "  background-color: #481769;\n",
       "  color: #f1f1f1;\n",
       "  font-size: 11px;\n",
       "}\n",
       "#T_dbd0d_row5_col7 {\n",
       "  background-color: #218e8d;\n",
       "  color: #f1f1f1;\n",
       "  font-size: 11px;\n",
       "}\n",
       "#T_dbd0d_row5_col8, #T_dbd0d_row6_col8 {\n",
       "  background-color: #95d840;\n",
       "  color: #000000;\n",
       "  font-size: 11px;\n",
       "}\n",
       "#T_dbd0d_row5_col11 {\n",
       "  background-color: #89d548;\n",
       "  color: #000000;\n",
       "  font-size: 11px;\n",
       "}\n",
       "#T_dbd0d_row6_col0 {\n",
       "  background-color: #238a8d;\n",
       "  color: #f1f1f1;\n",
       "  font-size: 11px;\n",
       "}\n",
       "#T_dbd0d_row6_col1 {\n",
       "  background-color: #5ac864;\n",
       "  color: #000000;\n",
       "  font-size: 11px;\n",
       "}\n",
       "#T_dbd0d_row6_col5 {\n",
       "  background-color: #228d8d;\n",
       "  color: #f1f1f1;\n",
       "  font-size: 11px;\n",
       "}\n",
       "#T_dbd0d_row7_col1 {\n",
       "  background-color: #20928c;\n",
       "  color: #f1f1f1;\n",
       "  font-size: 11px;\n",
       "}\n",
       "#T_dbd0d_row7_col3 {\n",
       "  background-color: #27808e;\n",
       "  color: #f1f1f1;\n",
       "  font-size: 11px;\n",
       "}\n",
       "#T_dbd0d_row7_col5 {\n",
       "  background-color: #453781;\n",
       "  color: #f1f1f1;\n",
       "  font-size: 11px;\n",
       "}\n",
       "#T_dbd0d_row7_col7 {\n",
       "  background-color: #355e8d;\n",
       "  color: #f1f1f1;\n",
       "  font-size: 11px;\n",
       "}\n",
       "#T_dbd0d_row7_col8, #T_dbd0d_row8_col8, #T_dbd0d_row9_col8, #T_dbd0d_row10_col8, #T_dbd0d_row11_col8 {\n",
       "  background-color: #93d741;\n",
       "  color: #000000;\n",
       "  font-size: 11px;\n",
       "}\n",
       "#T_dbd0d_row7_col9 {\n",
       "  background-color: #9dd93b;\n",
       "  color: #000000;\n",
       "  font-size: 11px;\n",
       "}\n",
       "#T_dbd0d_row7_col10 {\n",
       "  background-color: #8bd646;\n",
       "  color: #000000;\n",
       "  font-size: 11px;\n",
       "}\n",
       "#T_dbd0d_row8_col3, #T_dbd0d_row9_col3, #T_dbd0d_row10_col3, #T_dbd0d_row11_col3 {\n",
       "  background-color: #2a778e;\n",
       "  color: #f1f1f1;\n",
       "  font-size: 11px;\n",
       "}\n",
       "#T_dbd0d_row8_col5, #T_dbd0d_row9_col5, #T_dbd0d_row10_col5, #T_dbd0d_row11_col5 {\n",
       "  background-color: #32658e;\n",
       "  color: #f1f1f1;\n",
       "  font-size: 11px;\n",
       "}\n",
       "#T_dbd0d_row8_col7, #T_dbd0d_row9_col7, #T_dbd0d_row10_col7, #T_dbd0d_row11_col7 {\n",
       "  background-color: #38588c;\n",
       "  color: #f1f1f1;\n",
       "  font-size: 11px;\n",
       "}\n",
       "#T_dbd0d_row8_col9, #T_dbd0d_row9_col9, #T_dbd0d_row10_col9, #T_dbd0d_row11_col9 {\n",
       "  background-color: #9bd93c;\n",
       "  color: #000000;\n",
       "  font-size: 11px;\n",
       "}\n",
       "</style>\n",
       "<table id=\"T_dbd0d\">\n",
       "  <thead>\n",
       "    <tr>\n",
       "      <th class=\"blank level0\" >&nbsp;</th>\n",
       "      <th id=\"T_dbd0d_level0_col0\" class=\"col_heading level0 col0\" >age</th>\n",
       "      <th id=\"T_dbd0d_level0_col1\" class=\"col_heading level0 col1\" >anaemia</th>\n",
       "      <th id=\"T_dbd0d_level0_col2\" class=\"col_heading level0 col2\" >creatinine_phosphokinase</th>\n",
       "      <th id=\"T_dbd0d_level0_col3\" class=\"col_heading level0 col3\" >diabetes</th>\n",
       "      <th id=\"T_dbd0d_level0_col4\" class=\"col_heading level0 col4\" >ejection_fraction</th>\n",
       "      <th id=\"T_dbd0d_level0_col5\" class=\"col_heading level0 col5\" >high_blood_pressure</th>\n",
       "      <th id=\"T_dbd0d_level0_col6\" class=\"col_heading level0 col6\" >platelets</th>\n",
       "      <th id=\"T_dbd0d_level0_col7\" class=\"col_heading level0 col7\" >serum_creatinine</th>\n",
       "      <th id=\"T_dbd0d_level0_col8\" class=\"col_heading level0 col8\" >serum_sodium</th>\n",
       "      <th id=\"T_dbd0d_level0_col9\" class=\"col_heading level0 col9\" >sex</th>\n",
       "      <th id=\"T_dbd0d_level0_col10\" class=\"col_heading level0 col10\" >smoking</th>\n",
       "      <th id=\"T_dbd0d_level0_col11\" class=\"col_heading level0 col11\" >DEATH_EVENT</th>\n",
       "    </tr>\n",
       "  </thead>\n",
       "  <tbody>\n",
       "    <tr>\n",
       "      <th id=\"T_dbd0d_level0_row0\" class=\"row_heading level0 row0\" >0</th>\n",
       "      <td id=\"T_dbd0d_row0_col0\" class=\"data row0 col0\" >-0.621705</td>\n",
       "      <td id=\"T_dbd0d_row0_col1\" class=\"data row0 col1\" >-0.021686</td>\n",
       "      <td id=\"T_dbd0d_row0_col2\" class=\"data row0 col2\" >23.699134</td>\n",
       "      <td id=\"T_dbd0d_row0_col3\" class=\"data row0 col3\" >0.045473</td>\n",
       "      <td id=\"T_dbd0d_row0_col4\" class=\"data row0 col4\" >0.852778</td>\n",
       "      <td id=\"T_dbd0d_row0_col5\" class=\"data row0 col5\" >0.023849</td>\n",
       "      <td id=\"T_dbd0d_row0_col6\" class=\"data row0 col6\" >97640.547649</td>\n",
       "      <td id=\"T_dbd0d_row0_col7\" class=\"data row0 col7\" >-0.042549</td>\n",
       "      <td id=\"T_dbd0d_row0_col8\" class=\"data row0 col8\" >0.273665</td>\n",
       "      <td id=\"T_dbd0d_row0_col9\" class=\"data row0 col9\" >-0.059724</td>\n",
       "      <td id=\"T_dbd0d_row0_col10\" class=\"data row0 col10\" >0.013182</td>\n",
       "      <td id=\"T_dbd0d_row0_col11\" class=\"data row0 col11\" >-0.022942</td>\n",
       "    </tr>\n",
       "    <tr>\n",
       "      <th id=\"T_dbd0d_level0_row1\" class=\"row_heading level0 row1\" >1</th>\n",
       "      <td id=\"T_dbd0d_row1_col0\" class=\"data row1 col0\" >-0.954023</td>\n",
       "      <td id=\"T_dbd0d_row1_col1\" class=\"data row1 col1\" >-0.093968</td>\n",
       "      <td id=\"T_dbd0d_row1_col2\" class=\"data row1 col2\" >968.373498</td>\n",
       "      <td id=\"T_dbd0d_row1_col3\" class=\"data row1 col3\" >-0.005868</td>\n",
       "      <td id=\"T_dbd0d_row1_col4\" class=\"data row1 col4\" >-0.541914</td>\n",
       "      <td id=\"T_dbd0d_row1_col5\" class=\"data row1 col5\" >-0.034289</td>\n",
       "      <td id=\"T_dbd0d_row1_col6\" class=\"data row1 col6\" >-0.235045</td>\n",
       "      <td id=\"T_dbd0d_row1_col7\" class=\"data row1 col7\" >-0.015912</td>\n",
       "      <td id=\"T_dbd0d_row1_col8\" class=\"data row1 col8\" >0.255707</td>\n",
       "      <td id=\"T_dbd0d_row1_col9\" class=\"data row1 col9\" >0.039560</td>\n",
       "      <td id=\"T_dbd0d_row1_col10\" class=\"data row1 col10\" >0.000808</td>\n",
       "      <td id=\"T_dbd0d_row1_col11\" class=\"data row1 col11\" >0.029857</td>\n",
       "    </tr>\n",
       "    <tr>\n",
       "      <th id=\"T_dbd0d_level0_row2\" class=\"row_heading level0 row2\" >2</th>\n",
       "      <td id=\"T_dbd0d_row2_col0\" class=\"data row2 col0\" >8.704300</td>\n",
       "      <td id=\"T_dbd0d_row2_col1\" class=\"data row2 col1\" >0.033731</td>\n",
       "      <td id=\"T_dbd0d_row2_col2\" class=\"data row2 col2\" >0.013190</td>\n",
       "      <td id=\"T_dbd0d_row2_col3\" class=\"data row2 col3\" >-0.038386</td>\n",
       "      <td id=\"T_dbd0d_row2_col4\" class=\"data row2 col4\" >8.415139</td>\n",
       "      <td id=\"T_dbd0d_row2_col5\" class=\"data row2 col5\" >0.036243</td>\n",
       "      <td id=\"T_dbd0d_row2_col6\" class=\"data row2 col6\" >-0.000023</td>\n",
       "      <td id=\"T_dbd0d_row2_col7\" class=\"data row2 col7\" >0.104428</td>\n",
       "      <td id=\"T_dbd0d_row2_col8\" class=\"data row2 col8\" >0.458159</td>\n",
       "      <td id=\"T_dbd0d_row2_col9\" class=\"data row2 col9\" >-0.022012</td>\n",
       "      <td id=\"T_dbd0d_row2_col10\" class=\"data row2 col10\" >-0.015295</td>\n",
       "      <td id=\"T_dbd0d_row2_col11\" class=\"data row2 col11\" >0.000251</td>\n",
       "    </tr>\n",
       "    <tr>\n",
       "      <th id=\"T_dbd0d_level0_row3\" class=\"row_heading level0 row3\" >3</th>\n",
       "      <td id=\"T_dbd0d_row3_col0\" class=\"data row3 col0\" >-7.933620</td>\n",
       "      <td id=\"T_dbd0d_row3_col1\" class=\"data row3 col1\" >-0.015019</td>\n",
       "      <td id=\"T_dbd0d_row3_col2\" class=\"data row3 col2\" >-0.003427</td>\n",
       "      <td id=\"T_dbd0d_row3_col3\" class=\"data row3 col3\" >0.029085</td>\n",
       "      <td id=\"T_dbd0d_row3_col4\" class=\"data row3 col4\" >8.164138</td>\n",
       "      <td id=\"T_dbd0d_row3_col5\" class=\"data row3 col5\" >-0.024467</td>\n",
       "      <td id=\"T_dbd0d_row3_col6\" class=\"data row3 col6\" >-0.000124</td>\n",
       "      <td id=\"T_dbd0d_row3_col7\" class=\"data row3 col7\" >-0.129465</td>\n",
       "      <td id=\"T_dbd0d_row3_col8\" class=\"data row3 col8\" >0.804298</td>\n",
       "      <td id=\"T_dbd0d_row3_col9\" class=\"data row3 col9\" >-0.070847</td>\n",
       "      <td id=\"T_dbd0d_row3_col10\" class=\"data row3 col10\" >-0.030942</td>\n",
       "      <td id=\"T_dbd0d_row3_col11\" class=\"data row3 col11\" >-0.179793</td>\n",
       "    </tr>\n",
       "    <tr>\n",
       "      <th id=\"T_dbd0d_level0_row4\" class=\"row_heading level0 row4\" >4</th>\n",
       "      <td id=\"T_dbd0d_row4_col0\" class=\"data row4 col0\" >-0.096600</td>\n",
       "      <td id=\"T_dbd0d_row4_col1\" class=\"data row4 col1\" >-0.027595</td>\n",
       "      <td id=\"T_dbd0d_row4_col2\" class=\"data row4 col2\" >0.001170</td>\n",
       "      <td id=\"T_dbd0d_row4_col3\" class=\"data row4 col3\" >0.050538</td>\n",
       "      <td id=\"T_dbd0d_row4_col4\" class=\"data row4 col4\" >0.326378</td>\n",
       "      <td id=\"T_dbd0d_row4_col5\" class=\"data row4 col5\" >-0.019690</td>\n",
       "      <td id=\"T_dbd0d_row4_col6\" class=\"data row4 col6\" >0.000008</td>\n",
       "      <td id=\"T_dbd0d_row4_col7\" class=\"data row4 col7\" >0.190987</td>\n",
       "      <td id=\"T_dbd0d_row4_col8\" class=\"data row4 col8\" >-4.172209</td>\n",
       "      <td id=\"T_dbd0d_row4_col9\" class=\"data row4 col9\" >-0.004438</td>\n",
       "      <td id=\"T_dbd0d_row4_col10\" class=\"data row4 col10\" >-0.009645</td>\n",
       "      <td id=\"T_dbd0d_row4_col11\" class=\"data row4 col11\" >0.062963</td>\n",
       "    </tr>\n",
       "    <tr>\n",
       "      <th id=\"T_dbd0d_level0_row5\" class=\"row_heading level0 row5\" >5</th>\n",
       "      <td id=\"T_dbd0d_row5_col0\" class=\"data row5 col0\" >-0.002272</td>\n",
       "      <td id=\"T_dbd0d_row5_col1\" class=\"data row5 col1\" >0.094069</td>\n",
       "      <td id=\"T_dbd0d_row5_col2\" class=\"data row5 col2\" >0.000075</td>\n",
       "      <td id=\"T_dbd0d_row5_col3\" class=\"data row5 col3\" >0.108711</td>\n",
       "      <td id=\"T_dbd0d_row5_col4\" class=\"data row5 col4\" >-0.005265</td>\n",
       "      <td id=\"T_dbd0d_row5_col5\" class=\"data row5 col5\" >0.071481</td>\n",
       "      <td id=\"T_dbd0d_row5_col6\" class=\"data row5 col6\" >-0.000001</td>\n",
       "      <td id=\"T_dbd0d_row5_col7\" class=\"data row5 col7\" >0.103153</td>\n",
       "      <td id=\"T_dbd0d_row5_col8\" class=\"data row5 col8\" >0.015856</td>\n",
       "      <td id=\"T_dbd0d_row5_col9\" class=\"data row5 col9\" >-0.224084</td>\n",
       "      <td id=\"T_dbd0d_row5_col10\" class=\"data row5 col10\" >-0.220468</td>\n",
       "      <td id=\"T_dbd0d_row5_col11\" class=\"data row5 col11\" >0.078733</td>\n",
       "    </tr>\n",
       "    <tr>\n",
       "      <th id=\"T_dbd0d_level0_row6\" class=\"row_heading level0 row6\" >6</th>\n",
       "      <td id=\"T_dbd0d_row6_col0\" class=\"data row6 col0\" >-0.015417</td>\n",
       "      <td id=\"T_dbd0d_row6_col1\" class=\"data row6 col1\" >0.045631</td>\n",
       "      <td id=\"T_dbd0d_row6_col2\" class=\"data row6 col2\" >-0.000021</td>\n",
       "      <td id=\"T_dbd0d_row6_col3\" class=\"data row6 col3\" >-0.071134</td>\n",
       "      <td id=\"T_dbd0d_row6_col4\" class=\"data row6 col4\" >0.008736</td>\n",
       "      <td id=\"T_dbd0d_row6_col5\" class=\"data row6 col5\" >0.017258</td>\n",
       "      <td id=\"T_dbd0d_row6_col6\" class=\"data row6 col6\" >0.000000</td>\n",
       "      <td id=\"T_dbd0d_row6_col7\" class=\"data row6 col7\" >0.344355</td>\n",
       "      <td id=\"T_dbd0d_row6_col8\" class=\"data row6 col8\" >0.022282</td>\n",
       "      <td id=\"T_dbd0d_row6_col9\" class=\"data row6 col9\" >0.039601</td>\n",
       "      <td id=\"T_dbd0d_row6_col10\" class=\"data row6 col10\" >0.044396</td>\n",
       "      <td id=\"T_dbd0d_row6_col11\" class=\"data row6 col11\" >0.134193</td>\n",
       "    </tr>\n",
       "    <tr>\n",
       "      <th id=\"T_dbd0d_level0_row7\" class=\"row_heading level0 row7\" >7</th>\n",
       "      <td id=\"T_dbd0d_row7_col0\" class=\"data row7 col0\" >0.000276</td>\n",
       "      <td id=\"T_dbd0d_row7_col1\" class=\"data row7 col1\" >0.002155</td>\n",
       "      <td id=\"T_dbd0d_row7_col2\" class=\"data row7 col2\" >-0.000002</td>\n",
       "      <td id=\"T_dbd0d_row7_col3\" class=\"data row7 col3\" >0.006304</td>\n",
       "      <td id=\"T_dbd0d_row7_col4\" class=\"data row7 col4\" >-0.000045</td>\n",
       "      <td id=\"T_dbd0d_row7_col5\" class=\"data row7 col5\" >-0.017516</td>\n",
       "      <td id=\"T_dbd0d_row7_col6\" class=\"data row7 col6\" >0.000000</td>\n",
       "      <td id=\"T_dbd0d_row7_col7\" class=\"data row7 col7\" >0.009371</td>\n",
       "      <td id=\"T_dbd0d_row7_col8\" class=\"data row7 col8\" >0.001041</td>\n",
       "      <td id=\"T_dbd0d_row7_col9\" class=\"data row7 col9\" >0.000472</td>\n",
       "      <td id=\"T_dbd0d_row7_col10\" class=\"data row7 col10\" >-0.001444</td>\n",
       "      <td id=\"T_dbd0d_row7_col11\" class=\"data row7 col11\" >-0.000350</td>\n",
       "    </tr>\n",
       "    <tr>\n",
       "      <th id=\"T_dbd0d_level0_row8\" class=\"row_heading level0 row8\" >8</th>\n",
       "      <td id=\"T_dbd0d_row8_col0\" class=\"data row8 col0\" >0.000000</td>\n",
       "      <td id=\"T_dbd0d_row8_col1\" class=\"data row8 col1\" >-0.000000</td>\n",
       "      <td id=\"T_dbd0d_row8_col2\" class=\"data row8 col2\" >-0.000000</td>\n",
       "      <td id=\"T_dbd0d_row8_col3\" class=\"data row8 col3\" >0.000000</td>\n",
       "      <td id=\"T_dbd0d_row8_col4\" class=\"data row8 col4\" >0.000000</td>\n",
       "      <td id=\"T_dbd0d_row8_col5\" class=\"data row8 col5\" >0.000000</td>\n",
       "      <td id=\"T_dbd0d_row8_col6\" class=\"data row8 col6\" >-0.000000</td>\n",
       "      <td id=\"T_dbd0d_row8_col7\" class=\"data row8 col7\" >0.000000</td>\n",
       "      <td id=\"T_dbd0d_row8_col8\" class=\"data row8 col8\" >0.000000</td>\n",
       "      <td id=\"T_dbd0d_row8_col9\" class=\"data row8 col9\" >-0.000000</td>\n",
       "      <td id=\"T_dbd0d_row8_col10\" class=\"data row8 col10\" >0.000000</td>\n",
       "      <td id=\"T_dbd0d_row8_col11\" class=\"data row8 col11\" >0.000000</td>\n",
       "    </tr>\n",
       "    <tr>\n",
       "      <th id=\"T_dbd0d_level0_row9\" class=\"row_heading level0 row9\" >9</th>\n",
       "      <td id=\"T_dbd0d_row9_col0\" class=\"data row9 col0\" >0.000000</td>\n",
       "      <td id=\"T_dbd0d_row9_col1\" class=\"data row9 col1\" >-0.000000</td>\n",
       "      <td id=\"T_dbd0d_row9_col2\" class=\"data row9 col2\" >-0.000000</td>\n",
       "      <td id=\"T_dbd0d_row9_col3\" class=\"data row9 col3\" >-0.000000</td>\n",
       "      <td id=\"T_dbd0d_row9_col4\" class=\"data row9 col4\" >-0.000000</td>\n",
       "      <td id=\"T_dbd0d_row9_col5\" class=\"data row9 col5\" >-0.000000</td>\n",
       "      <td id=\"T_dbd0d_row9_col6\" class=\"data row9 col6\" >0.000000</td>\n",
       "      <td id=\"T_dbd0d_row9_col7\" class=\"data row9 col7\" >0.000000</td>\n",
       "      <td id=\"T_dbd0d_row9_col8\" class=\"data row9 col8\" >-0.000000</td>\n",
       "      <td id=\"T_dbd0d_row9_col9\" class=\"data row9 col9\" >-0.000000</td>\n",
       "      <td id=\"T_dbd0d_row9_col10\" class=\"data row9 col10\" >-0.000000</td>\n",
       "      <td id=\"T_dbd0d_row9_col11\" class=\"data row9 col11\" >-0.000000</td>\n",
       "    </tr>\n",
       "    <tr>\n",
       "      <th id=\"T_dbd0d_level0_row10\" class=\"row_heading level0 row10\" >10</th>\n",
       "      <td id=\"T_dbd0d_row10_col0\" class=\"data row10 col0\" >0.000000</td>\n",
       "      <td id=\"T_dbd0d_row10_col1\" class=\"data row10 col1\" >0.000000</td>\n",
       "      <td id=\"T_dbd0d_row10_col2\" class=\"data row10 col2\" >0.000000</td>\n",
       "      <td id=\"T_dbd0d_row10_col3\" class=\"data row10 col3\" >0.000000</td>\n",
       "      <td id=\"T_dbd0d_row10_col4\" class=\"data row10 col4\" >-0.000000</td>\n",
       "      <td id=\"T_dbd0d_row10_col5\" class=\"data row10 col5\" >0.000000</td>\n",
       "      <td id=\"T_dbd0d_row10_col6\" class=\"data row10 col6\" >-0.000000</td>\n",
       "      <td id=\"T_dbd0d_row10_col7\" class=\"data row10 col7\" >0.000000</td>\n",
       "      <td id=\"T_dbd0d_row10_col8\" class=\"data row10 col8\" >0.000000</td>\n",
       "      <td id=\"T_dbd0d_row10_col9\" class=\"data row10 col9\" >0.000000</td>\n",
       "      <td id=\"T_dbd0d_row10_col10\" class=\"data row10 col10\" >-0.000000</td>\n",
       "      <td id=\"T_dbd0d_row10_col11\" class=\"data row10 col11\" >-0.000000</td>\n",
       "    </tr>\n",
       "    <tr>\n",
       "      <th id=\"T_dbd0d_level0_row11\" class=\"row_heading level0 row11\" >11</th>\n",
       "      <td id=\"T_dbd0d_row11_col0\" class=\"data row11 col0\" >0.000000</td>\n",
       "      <td id=\"T_dbd0d_row11_col1\" class=\"data row11 col1\" >0.000000</td>\n",
       "      <td id=\"T_dbd0d_row11_col2\" class=\"data row11 col2\" >0.000000</td>\n",
       "      <td id=\"T_dbd0d_row11_col3\" class=\"data row11 col3\" >0.000000</td>\n",
       "      <td id=\"T_dbd0d_row11_col4\" class=\"data row11 col4\" >-0.000000</td>\n",
       "      <td id=\"T_dbd0d_row11_col5\" class=\"data row11 col5\" >-0.000000</td>\n",
       "      <td id=\"T_dbd0d_row11_col6\" class=\"data row11 col6\" >-0.000000</td>\n",
       "      <td id=\"T_dbd0d_row11_col7\" class=\"data row11 col7\" >0.000000</td>\n",
       "      <td id=\"T_dbd0d_row11_col8\" class=\"data row11 col8\" >-0.000000</td>\n",
       "      <td id=\"T_dbd0d_row11_col9\" class=\"data row11 col9\" >-0.000000</td>\n",
       "      <td id=\"T_dbd0d_row11_col10\" class=\"data row11 col10\" >0.000000</td>\n",
       "      <td id=\"T_dbd0d_row11_col11\" class=\"data row11 col11\" >-0.000000</td>\n",
       "    </tr>\n",
       "  </tbody>\n",
       "</table>\n"
      ],
      "text/plain": [
       "<pandas.io.formats.style.Styler at 0x2a575746410>"
      ]
     },
     "execution_count": 25,
     "metadata": {},
     "output_type": "execute_result"
    }
   ],
   "source": [
    "factor=FactorAnalysis().fit(data)\n",
    "\n",
    "df = pd.DataFrame(factor.components_,columns=data.columns)\n",
    "df.style.background_gradient(cmap ='viridis')\\\n",
    "        .set_properties(**{'font-size': '11px'})"
   ]
  }
 ],
 "metadata": {
  "kernelspec": {
   "display_name": "Python 3 (ipykernel)",
   "language": "python",
   "name": "python3"
  },
  "language_info": {
   "codemirror_mode": {
    "name": "ipython",
    "version": 3
   },
   "file_extension": ".py",
   "mimetype": "text/x-python",
   "name": "python",
   "nbconvert_exporter": "python",
   "pygments_lexer": "ipython3",
   "version": "3.10.0"
  },
  "widgets": {
   "application/vnd.jupyter.widget-state+json": {
    "state": {
     "0321dc337b4449bab4d9b1745effdf31": {
      "model_module": "@jupyter-widgets/base",
      "model_module_version": "2.0.0",
      "model_name": "LayoutModel",
      "state": {}
     },
     "03a93c7e78b24c20bc7bc13a8e5aa4a3": {
      "model_module": "@jupyter-widgets/controls",
      "model_module_version": "2.0.0",
      "model_name": "DescriptionStyleModel",
      "state": {
       "description_width": "initial"
      }
     },
     "147fb38a12764338ad97b9bdada212a0": {
      "model_module": "@jupyter-widgets/controls",
      "model_module_version": "2.0.0",
      "model_name": "LabelModel",
      "state": {
       "layout": "IPY_MODEL_3658a543795949cda1797e9cfb164bf6",
       "style": "IPY_MODEL_1d6e2b0835c041efa96577b7fb66fd35",
       "value": "Select a data feature to view correlation with death event:"
      }
     },
     "17c8715ae73b42a28dd5681f457c105c": {
      "model_module": "@jupyter-widgets/output",
      "model_module_version": "1.0.0",
      "model_name": "OutputModel",
      "state": {
       "layout": "IPY_MODEL_4db56ed058b54160a1b72f25366d567a",
       "outputs": [
        {
         "name": "stdout",
         "output_type": "stream",
         "text": "Accuracy:  66.66666666666666 %\n"
        }
       ]
      }
     },
     "1850d0220cea4a2e874047503d0f1f41": {
      "model_module": "@jupyter-widgets/controls",
      "model_module_version": "2.0.0",
      "model_name": "RadioButtonsModel",
      "state": {
       "_options_labels": [
        "Male",
        "Female"
       ],
       "description": "Sex:",
       "index": 0,
       "layout": "IPY_MODEL_5fd658cd299048b0838d9852898c1c88",
       "style": "IPY_MODEL_b66d2ab727114275a05b98cb6092776d"
      }
     },
     "1b17cda71f774879ac65ccb0b65e5831": {
      "model_module": "@jupyter-widgets/base",
      "model_module_version": "2.0.0",
      "model_name": "LayoutModel",
      "state": {}
     },
     "1b6c407a19f0468f8075a8c09bd5b2b6": {
      "model_module": "@jupyter-widgets/controls",
      "model_module_version": "2.0.0",
      "model_name": "LabelStyleModel",
      "state": {
       "description_width": "",
       "font_family": null,
       "font_size": null,
       "font_style": null,
       "font_variant": null,
       "font_weight": null,
       "text_color": null,
       "text_decoration": null
      }
     },
     "1d6e2b0835c041efa96577b7fb66fd35": {
      "model_module": "@jupyter-widgets/controls",
      "model_module_version": "2.0.0",
      "model_name": "LabelStyleModel",
      "state": {
       "description_width": "",
       "font_family": null,
       "font_size": null,
       "font_style": null,
       "font_variant": null,
       "font_weight": null,
       "text_color": null,
       "text_decoration": null
      }
     },
     "2206c221378747fa956dde746bec33fd": {
      "model_module": "@jupyter-widgets/controls",
      "model_module_version": "2.0.0",
      "model_name": "BoundedIntTextModel",
      "state": {
       "description": "CPK lab result:",
       "layout": "IPY_MODEL_f20cdda9dd7648e289d4b099fd7e979e",
       "max": 8000,
       "style": "IPY_MODEL_e792d52b734847ac89ca854534bf1552"
      }
     },
     "220c423322f2421c82d1beb727e1be65": {
      "model_module": "@jupyter-widgets/controls",
      "model_module_version": "2.0.0",
      "model_name": "RadioButtonsModel",
      "state": {
       "_options_labels": [
        "No",
        "Yes"
       ],
       "description": "High blood pressure?",
       "index": 0,
       "layout": "IPY_MODEL_243c71657c994a84b0ffa735f10b6fa9",
       "style": "IPY_MODEL_315ef3d386e3441d8b255a31b8bfda50"
      }
     },
     "243c71657c994a84b0ffa735f10b6fa9": {
      "model_module": "@jupyter-widgets/base",
      "model_module_version": "2.0.0",
      "model_name": "LayoutModel",
      "state": {}
     },
     "2a27f895a69d42b297c8574da573ff78": {
      "model_module": "@jupyter-widgets/controls",
      "model_module_version": "2.0.0",
      "model_name": "DescriptionStyleModel",
      "state": {
       "description_width": ""
      }
     },
     "2bc8556623894d3fbbd9b929b0fe87e2": {
      "model_module": "@jupyter-widgets/controls",
      "model_module_version": "2.0.0",
      "model_name": "DescriptionStyleModel",
      "state": {
       "description_width": "initial"
      }
     },
     "2d410e9fd3ee4e12bf5046691da5ac02": {
      "model_module": "@jupyter-widgets/controls",
      "model_module_version": "2.0.0",
      "model_name": "BoundedIntTextModel",
      "state": {
       "description": "Platelets lab result:",
       "layout": "IPY_MODEL_6d66aaec60da40c589277ef453351424",
       "max": 999999,
       "style": "IPY_MODEL_a7758e3834c84dbebcc48548f3de55c9"
      }
     },
     "2f5992880b77478d950d58a58937b30d": {
      "model_module": "@jupyter-widgets/base",
      "model_module_version": "2.0.0",
      "model_name": "LayoutModel",
      "state": {}
     },
     "30909fff25684aa3a1c43ac92d3d7a89": {
      "model_module": "@jupyter-widgets/controls",
      "model_module_version": "2.0.0",
      "model_name": "ButtonModel",
      "state": {
       "description": "Calculate",
       "layout": "IPY_MODEL_72fd120e3b604c609e5ba24e4b6ac62e",
       "style": "IPY_MODEL_a98369fb9a7749b5a237565e0a55cab3",
       "tooltip": null
      }
     },
     "315ef3d386e3441d8b255a31b8bfda50": {
      "model_module": "@jupyter-widgets/controls",
      "model_module_version": "2.0.0",
      "model_name": "DescriptionStyleModel",
      "state": {
       "description_width": "initial"
      }
     },
     "3658a543795949cda1797e9cfb164bf6": {
      "model_module": "@jupyter-widgets/base",
      "model_module_version": "2.0.0",
      "model_name": "LayoutModel",
      "state": {}
     },
     "3bd28c0e281f4dafbf81268d5559dab9": {
      "model_module": "@jupyter-widgets/controls",
      "model_module_version": "2.0.0",
      "model_name": "ButtonStyleModel",
      "state": {
       "font_family": null,
       "font_size": null,
       "font_style": null,
       "font_variant": null,
       "font_weight": null,
       "text_color": null,
       "text_decoration": null
      }
     },
     "3f7645a55bff4cd4a260dd3506764bd5": {
      "model_module": "@jupyter-widgets/controls",
      "model_module_version": "2.0.0",
      "model_name": "BoundedIntTextModel",
      "state": {
       "description": "Ejection fraction lab result:",
       "layout": "IPY_MODEL_48bdfa3daf5c4546b332f812f34a4c61",
       "style": "IPY_MODEL_e318c9afaa7b4a47b1b515567a25dddf"
      }
     },
     "48bdfa3daf5c4546b332f812f34a4c61": {
      "model_module": "@jupyter-widgets/base",
      "model_module_version": "2.0.0",
      "model_name": "LayoutModel",
      "state": {}
     },
     "494f212f676a4333b578b4ac38be1696": {
      "model_module": "@jupyter-widgets/controls",
      "model_module_version": "2.0.0",
      "model_name": "LabelModel",
      "state": {
       "layout": "IPY_MODEL_1b17cda71f774879ac65ccb0b65e5831",
       "style": "IPY_MODEL_1b6c407a19f0468f8075a8c09bd5b2b6",
       "value": "Select a data feature to view range and mean values:"
      }
     },
     "4cd3bad7441b4d899871ea7638f22a5e": {
      "model_module": "@jupyter-widgets/controls",
      "model_module_version": "2.0.0",
      "model_name": "DescriptionStyleModel",
      "state": {
       "description_width": ""
      }
     },
     "4db56ed058b54160a1b72f25366d567a": {
      "model_module": "@jupyter-widgets/base",
      "model_module_version": "2.0.0",
      "model_name": "LayoutModel",
      "state": {
       "border_bottom": "1px solid black",
       "border_left": "1px solid black",
       "border_right": "1px solid black",
       "border_top": "1px solid black"
      }
     },
     "4f6921b9fcb9458491a70d81260c5ed1": {
      "model_module": "@jupyter-widgets/output",
      "model_module_version": "1.0.0",
      "model_name": "OutputModel",
      "state": {
       "layout": "IPY_MODEL_6582617806874708ae7d872093cdf74c"
      }
     },
     "543422271d9c4b099b4aac83b7b4fab7": {
      "model_module": "@jupyter-widgets/controls",
      "model_module_version": "2.0.0",
      "model_name": "BoundedIntTextModel",
      "state": {
       "description": "Serum sodium lab result:",
       "layout": "IPY_MODEL_816c52a4ea514e93bece85ec1c4d9630",
       "max": 10000,
       "style": "IPY_MODEL_7d58c5891e254d46a2b9759bbe4fc8fc"
      }
     },
     "56eae369c3a042e39d1f917d97f7371e": {
      "model_module": "@jupyter-widgets/base",
      "model_module_version": "2.0.0",
      "model_name": "LayoutModel",
      "state": {}
     },
     "5fd658cd299048b0838d9852898c1c88": {
      "model_module": "@jupyter-widgets/base",
      "model_module_version": "2.0.0",
      "model_name": "LayoutModel",
      "state": {}
     },
     "6011dd816d84405d9334a68e38f69fad": {
      "model_module": "@jupyter-widgets/base",
      "model_module_version": "2.0.0",
      "model_name": "LayoutModel",
      "state": {}
     },
     "635fb7baec364787999e5048fdee1d5e": {
      "model_module": "@jupyter-widgets/controls",
      "model_module_version": "2.0.0",
      "model_name": "RadioButtonsModel",
      "state": {
       "_options_labels": [
        "Age",
        "CPK",
        "Ejection fraction",
        "Platelets",
        "Serum creatinine",
        "Serum sodium"
       ],
       "index": 5,
       "layout": "IPY_MODEL_6011dd816d84405d9334a68e38f69fad",
       "style": "IPY_MODEL_4cd3bad7441b4d899871ea7638f22a5e"
      }
     },
     "6582617806874708ae7d872093cdf74c": {
      "model_module": "@jupyter-widgets/base",
      "model_module_version": "2.0.0",
      "model_name": "LayoutModel",
      "state": {}
     },
     "6d66aaec60da40c589277ef453351424": {
      "model_module": "@jupyter-widgets/base",
      "model_module_version": "2.0.0",
      "model_name": "LayoutModel",
      "state": {}
     },
     "72fd120e3b604c609e5ba24e4b6ac62e": {
      "model_module": "@jupyter-widgets/base",
      "model_module_version": "2.0.0",
      "model_name": "LayoutModel",
      "state": {}
     },
     "750d501f377a4e2a9a7e9503b159d5c7": {
      "model_module": "@jupyter-widgets/base",
      "model_module_version": "2.0.0",
      "model_name": "LayoutModel",
      "state": {}
     },
     "7d58c5891e254d46a2b9759bbe4fc8fc": {
      "model_module": "@jupyter-widgets/controls",
      "model_module_version": "2.0.0",
      "model_name": "DescriptionStyleModel",
      "state": {
       "description_width": "initial"
      }
     },
     "816c52a4ea514e93bece85ec1c4d9630": {
      "model_module": "@jupyter-widgets/base",
      "model_module_version": "2.0.0",
      "model_name": "LayoutModel",
      "state": {}
     },
     "899d8e0681294f30a2fc3bda3605b4e4": {
      "model_module": "@jupyter-widgets/base",
      "model_module_version": "2.0.0",
      "model_name": "LayoutModel",
      "state": {}
     },
     "9039bf4c0baf425b91926132d8ef698d": {
      "model_module": "@jupyter-widgets/output",
      "model_module_version": "1.0.0",
      "model_name": "OutputModel",
      "state": {
       "layout": "IPY_MODEL_9460f04eda634fa392ca16420f93d231",
       "outputs": [
        {
         "name": "stdout",
         "output_type": "stream",
         "text": "Range:  [113, 148]  Mean:  136.62541806020067\n"
        },
        {
         "data": {
          "image/png": "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\n",
          "text/plain": "<Figure size 640x480 with 1 Axes>"
         },
         "metadata": {},
         "output_type": "display_data"
        }
       ]
      }
     },
     "945b24f9090248c7a006f09a3242836c": {
      "model_module": "@jupyter-widgets/controls",
      "model_module_version": "2.0.0",
      "model_name": "DescriptionStyleModel",
      "state": {
       "description_width": ""
      }
     },
     "9460f04eda634fa392ca16420f93d231": {
      "model_module": "@jupyter-widgets/base",
      "model_module_version": "2.0.0",
      "model_name": "LayoutModel",
      "state": {}
     },
     "994372e44c2141faa9a1f0dd13d2043b": {
      "model_module": "@jupyter-widgets/controls",
      "model_module_version": "2.0.0",
      "model_name": "ButtonStyleModel",
      "state": {
       "font_family": null,
       "font_size": null,
       "font_style": null,
       "font_variant": null,
       "font_weight": null,
       "text_color": null,
       "text_decoration": null
      }
     },
     "a09288fe17d14fd6a011b8b426cc3d62": {
      "model_module": "@jupyter-widgets/base",
      "model_module_version": "2.0.0",
      "model_name": "LayoutModel",
      "state": {}
     },
     "a1190e06f79b46ba8ffeee8aea22eb34": {
      "model_module": "@jupyter-widgets/controls",
      "model_module_version": "2.0.0",
      "model_name": "ButtonModel",
      "state": {
       "description": "Get values",
       "layout": "IPY_MODEL_2f5992880b77478d950d58a58937b30d",
       "style": "IPY_MODEL_994372e44c2141faa9a1f0dd13d2043b",
       "tooltip": null
      }
     },
     "a386807bf0644bd0bc815e40493ca9b8": {
      "model_module": "@jupyter-widgets/controls",
      "model_module_version": "2.0.0",
      "model_name": "RadioButtonsModel",
      "state": {
       "_options_labels": [
        "No",
        "Yes"
       ],
       "description": "Has anemia?",
       "index": 0,
       "layout": "IPY_MODEL_b9752ce15eae4589abb10d362f43a7a0",
       "style": "IPY_MODEL_945b24f9090248c7a006f09a3242836c"
      }
     },
     "a422cf9b52d8401abb85ee897b964bc7": {
      "model_module": "@jupyter-widgets/controls",
      "model_module_version": "2.0.0",
      "model_name": "DescriptionStyleModel",
      "state": {
       "description_width": ""
      }
     },
     "a7758e3834c84dbebcc48548f3de55c9": {
      "model_module": "@jupyter-widgets/controls",
      "model_module_version": "2.0.0",
      "model_name": "DescriptionStyleModel",
      "state": {
       "description_width": "initial"
      }
     },
     "a77a45c829a94c4b9f78179c49eaafc6": {
      "model_module": "@jupyter-widgets/base",
      "model_module_version": "2.0.0",
      "model_name": "LayoutModel",
      "state": {}
     },
     "a865c1fcf1c84fd29e53a8bd868b3ed0": {
      "model_module": "@jupyter-widgets/controls",
      "model_module_version": "2.0.0",
      "model_name": "RadioButtonsModel",
      "state": {
       "_options_labels": [
        "No",
        "Yes"
       ],
       "description": "Has diabetes?",
       "index": 0,
       "layout": "IPY_MODEL_fed77262090d4d57af2b0300b2a42069",
       "style": "IPY_MODEL_03a93c7e78b24c20bc7bc13a8e5aa4a3"
      }
     },
     "a98369fb9a7749b5a237565e0a55cab3": {
      "model_module": "@jupyter-widgets/controls",
      "model_module_version": "2.0.0",
      "model_name": "ButtonStyleModel",
      "state": {
       "font_family": null,
       "font_size": null,
       "font_style": null,
       "font_variant": null,
       "font_weight": null,
       "text_color": null,
       "text_decoration": null
      }
     },
     "b31968bdd65442609cac2daad23f557f": {
      "model_module": "@jupyter-widgets/controls",
      "model_module_version": "2.0.0",
      "model_name": "BoundedFloatTextModel",
      "state": {
       "description": "Serum creatinine lab result:",
       "layout": "IPY_MODEL_899d8e0681294f30a2fc3bda3605b4e4",
       "max": 10,
       "step": 0.01,
       "style": "IPY_MODEL_2bc8556623894d3fbbd9b929b0fe87e2"
      }
     },
     "b66d2ab727114275a05b98cb6092776d": {
      "model_module": "@jupyter-widgets/controls",
      "model_module_version": "2.0.0",
      "model_name": "DescriptionStyleModel",
      "state": {
       "description_width": ""
      }
     },
     "b9752ce15eae4589abb10d362f43a7a0": {
      "model_module": "@jupyter-widgets/base",
      "model_module_version": "2.0.0",
      "model_name": "LayoutModel",
      "state": {}
     },
     "c56c544514f64121a0f672335d123f34": {
      "model_module": "@jupyter-widgets/output",
      "model_module_version": "1.0.0",
      "model_name": "OutputModel",
      "state": {
       "layout": "IPY_MODEL_a77a45c829a94c4b9f78179c49eaafc6"
      }
     },
     "c8c024b3d9a74b8894958aa86465e9db": {
      "model_module": "@jupyter-widgets/controls",
      "model_module_version": "2.0.0",
      "model_name": "RadioButtonsModel",
      "state": {
       "_options_labels": [
        "Age",
        "CPK",
        "Ejection fraction",
        "Platelets",
        "Serum creatinine",
        "Serum sodium"
       ],
       "index": 5,
       "layout": "IPY_MODEL_0321dc337b4449bab4d9b1745effdf31",
       "style": "IPY_MODEL_df31510aecca4edca607044ff7d3cb09"
      }
     },
     "de2d9ebad9df4e1bae0c34557840d09b": {
      "model_module": "@jupyter-widgets/controls",
      "model_module_version": "2.0.0",
      "model_name": "BoundedIntTextModel",
      "state": {
       "description": "Age:",
       "layout": "IPY_MODEL_56eae369c3a042e39d1f917d97f7371e",
       "max": 120,
       "style": "IPY_MODEL_2a27f895a69d42b297c8574da573ff78"
      }
     },
     "df31510aecca4edca607044ff7d3cb09": {
      "model_module": "@jupyter-widgets/controls",
      "model_module_version": "2.0.0",
      "model_name": "DescriptionStyleModel",
      "state": {
       "description_width": ""
      }
     },
     "e318c9afaa7b4a47b1b515567a25dddf": {
      "model_module": "@jupyter-widgets/controls",
      "model_module_version": "2.0.0",
      "model_name": "DescriptionStyleModel",
      "state": {
       "description_width": "initial"
      }
     },
     "e4aa3f0fdfc744e888021cc75347ee85": {
      "model_module": "@jupyter-widgets/controls",
      "model_module_version": "2.0.0",
      "model_name": "ButtonModel",
      "state": {
       "description": "Get values",
       "layout": "IPY_MODEL_750d501f377a4e2a9a7e9503b159d5c7",
       "style": "IPY_MODEL_3bd28c0e281f4dafbf81268d5559dab9",
       "tooltip": null
      }
     },
     "e792d52b734847ac89ca854534bf1552": {
      "model_module": "@jupyter-widgets/controls",
      "model_module_version": "2.0.0",
      "model_name": "DescriptionStyleModel",
      "state": {
       "description_width": "initial"
      }
     },
     "f18a732c7ff04d838619bd93ffd99ab4": {
      "model_module": "@jupyter-widgets/controls",
      "model_module_version": "2.0.0",
      "model_name": "RadioButtonsModel",
      "state": {
       "_options_labels": [
        "No",
        "Yes"
       ],
       "description": "Smoking?",
       "index": 0,
       "layout": "IPY_MODEL_a09288fe17d14fd6a011b8b426cc3d62",
       "style": "IPY_MODEL_a422cf9b52d8401abb85ee897b964bc7"
      }
     },
     "f20cdda9dd7648e289d4b099fd7e979e": {
      "model_module": "@jupyter-widgets/base",
      "model_module_version": "2.0.0",
      "model_name": "LayoutModel",
      "state": {}
     },
     "fed77262090d4d57af2b0300b2a42069": {
      "model_module": "@jupyter-widgets/base",
      "model_module_version": "2.0.0",
      "model_name": "LayoutModel",
      "state": {}
     }
    },
    "version_major": 2,
    "version_minor": 0
   }
  }
 },
 "nbformat": 4,
 "nbformat_minor": 5
}
